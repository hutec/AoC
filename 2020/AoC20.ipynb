{
 "cells": [
  {
   "cell_type": "code",
   "execution_count": 86,
   "metadata": {},
   "outputs": [],
   "source": [
    "import re\n",
    "from operator import mul\n",
    "from functools import reduce"
   ]
  },
  {
   "cell_type": "code",
   "execution_count": 87,
   "metadata": {},
   "outputs": [],
   "source": [
    "class Tile:\n",
    "    def __init__(self, tile):\n",
    "        id, array = tile.split(\":\")\n",
    "        self.id = int(id[5:])\n",
    "        self.array = array[1:].splitlines()\n",
    "        self.borders = get_borders(self.array)\n",
    "\n",
    "\n",
    "def get_borders(array):\n",
    "    \"\"\"Order is top, right, bottom, left\"\"\"\n",
    "    borders = [\n",
    "        array[0],\n",
    "        \"\".join([row[-1] for row in array]),\n",
    "        array[-1],\n",
    "        \"\".join([row[0] for row in array]),\n",
    "    ]\n",
    "    return borders\n",
    "\n",
    "\n",
    "with open(\"inputs/aoc20\", \"r\") as f:\n",
    "    seq = f.read()\n",
    "    tiles = seq.split(\"\\n\\n\")\n",
    "    tiles = list(map(Tile, tiles))\n"
   ]
  },
  {
   "cell_type": "code",
   "execution_count": 88,
   "metadata": {},
   "outputs": [
    {
     "data": {
      "text/plain": [
       "18482479935793"
      ]
     },
     "execution_count": 88,
     "metadata": {},
     "output_type": "execute_result"
    }
   ],
   "source": [
    "corners = []\n",
    "for tile in tiles:\n",
    "    match_count = 0\n",
    "    for border in tile.borders:\n",
    "        for other_tile in filter(lambda t: t.id != tile.id, tiles):\n",
    "            match_count += border in other_tile.borders or border[::-1] in other_tile.borders\n",
    "    if match_count == 2:\n",
    "        corners.append(tile.id)\n",
    "\n",
    "reduce(mul, corners)"
   ]
  },
  {
   "cell_type": "code",
   "execution_count": null,
   "metadata": {},
   "outputs": [],
   "source": []
  }
 ],
 "metadata": {
  "kernelspec": {
   "display_name": "Python 3",
   "language": "python",
   "name": "python3"
  },
  "language_info": {
   "codemirror_mode": {
    "name": "ipython",
    "version": 3
   },
   "file_extension": ".py",
   "mimetype": "text/x-python",
   "name": "python",
   "nbconvert_exporter": "python",
   "pygments_lexer": "ipython3",
   "version": "3.8.3"
  }
 },
 "nbformat": 4,
 "nbformat_minor": 4
}
