{
 "cells": [
  {
   "cell_type": "code",
   "execution_count": 635,
   "metadata": {},
   "outputs": [],
   "source": [
    "import re\n",
    "from collections import defaultdict, Counter\n",
    "import itertools\n",
    "import functools"
   ]
  },
  {
   "cell_type": "code",
   "execution_count": 636,
   "metadata": {},
   "outputs": [
    {
     "name": "stdout",
     "output_type": "stream",
     "text": [
      "2779\n"
     ]
    }
   ],
   "source": [
    "with open(\"inputs/aoc21\", \"r\") as f:\n",
    "    seq = f.read().splitlines()\n",
    "\n",
    "ret = defaultdict(list)\n",
    "all_ingredients = set()\n",
    "p = re.compile(\"([\\w\\s]+) \\(contains ([\\w\\s,]+)\")\n",
    "for food in seq:\n",
    "    ingredients, allergens = p.search(food).groups()\n",
    "    ingredients = ingredients.split(\" \")\n",
    "    all_ingredients.update(ingredients)\n",
    "    allergens = allergens.split(\", \")\n",
    "    for allergen in allergens:\n",
    "        if allergen in ret:\n",
    "            ret[allergen] = ret[allergen].intersection(ingredients)\n",
    "        else:\n",
    "            ret[allergen] = set(ingredients)\n",
    "            \n",
    "safe_ingredients = all_ingredients - functools.reduce(set.union, ret.values())\n",
    "safe_count = 0\n",
    "for food in seq:\n",
    "    ingredients, _ = p.search(food).groups()\n",
    "    safe_count += sum(map(lambda i: i in safe_ingredients, ingredients.split(\" \")))\n",
    "\n",
    "print(safe_count)"
   ]
  },
  {
   "cell_type": "code",
   "execution_count": 645,
   "metadata": {},
   "outputs": [],
   "source": [
    "final = {}\n",
    "to_solve = []\n",
    "found_ingredients = set()\n",
    "\n",
    "for allergen, ingredient_candidates in sorted(ret.items(), key=lambda x: len(x[1])):\n",
    "    remaining_candidates = ingredient_candidates - found_ingredients\n",
    "    if len(remaining_candidates) != 1:\n",
    "        to_solve.append((allergen, ingredient_candidates))\n",
    "    else:\n",
    "        final[allergen] = remaining_candidates\n",
    "        found_ingredients.update(remaining_candidates)\n",
    "\n",
    "for allergen, ingredient_candidates in to_solve:\n",
    "    remaining_candidates = ingredient_candidates - found_ingredients\n",
    "    assert len(remaining_candidates) == 1\n",
    "    final[allergen] = remaining_candidates\n",
    "    found_ingredients.update(remaining_candidates)        \n"
   ]
  },
  {
   "cell_type": "code",
   "execution_count": 668,
   "metadata": {},
   "outputs": [
    {
     "data": {
      "text/plain": [
       "'lkv,lfcppl,jhsrjlj,jrhvk,zkls,qjltjd,xslr,rfpbpn'"
      ]
     },
     "execution_count": 668,
     "metadata": {},
     "output_type": "execute_result"
    }
   ],
   "source": [
    "\",\".join([list(x[1])[0] for x in sorted(final.items())])"
   ]
  },
  {
   "cell_type": "code",
   "execution_count": null,
   "metadata": {},
   "outputs": [],
   "source": []
  }
 ],
 "metadata": {
  "kernelspec": {
   "display_name": "Python 3",
   "language": "python",
   "name": "python3"
  },
  "language_info": {
   "codemirror_mode": {
    "name": "ipython",
    "version": 3
   },
   "file_extension": ".py",
   "mimetype": "text/x-python",
   "name": "python",
   "nbconvert_exporter": "python",
   "pygments_lexer": "ipython3",
   "version": "3.8.3"
  }
 },
 "nbformat": 4,
 "nbformat_minor": 4
}
