{
 "cells": [
  {
   "cell_type": "code",
   "execution_count": 1,
   "metadata": {},
   "outputs": [],
   "source": [
    "import itertools"
   ]
  },
  {
   "cell_type": "code",
   "execution_count": 2,
   "metadata": {},
   "outputs": [],
   "source": [
    "with open(\"inputs/aoc9\", \"r\") as f:\n",
    "    seq = f.read().splitlines()\n",
    "seq = list(map(int, seq))"
   ]
  },
  {
   "cell_type": "code",
   "execution_count": 3,
   "metadata": {},
   "outputs": [],
   "source": [
    "def attack(data, preambel):\n",
    "    \"\"\"\n",
    "    Find first element in `data` that is not a sum of any two values\n",
    "    in the previous `preambel` values.\n",
    "    \"\"\"\n",
    "    positions = list(itertools.combinations(range(preambel), 2))\n",
    "    for i in range(0, len(data) - preambel):\n",
    "        sums = [data[p1 + i] + data[p2 + i] for p1, p2 in positions]\n",
    "        \n",
    "        if data[i + preambel] not in sums:\n",
    "            return data[i + preambel]\n",
    "        \n",
    "def contiguous_set(data, target):\n",
    "    \"\"\"Find contiguous set of at least two numbers summing to `target`.\"\"\"\n",
    "    for start in range(len(data)):\n",
    "        set_sum = data[start]\n",
    "        for end in range(start + 1, len(data)):\n",
    "            set_sum += data[end]\n",
    "            if set_sum > target:\n",
    "                continue\n",
    "            elif set_sum == target:\n",
    "                return (start, end)"
   ]
  },
  {
   "cell_type": "code",
   "execution_count": 4,
   "metadata": {},
   "outputs": [
    {
     "data": {
      "text/plain": [
       "1930745883"
      ]
     },
     "execution_count": 4,
     "metadata": {},
     "output_type": "execute_result"
    }
   ],
   "source": [
    "attack(seq, 25)"
   ]
  },
  {
   "cell_type": "code",
   "execution_count": 5,
   "metadata": {},
   "outputs": [
    {
     "name": "stdout",
     "output_type": "stream",
     "text": [
      "268878261\n"
     ]
    }
   ],
   "source": [
    "start, end = contiguous_set(seq, 1930745883)\n",
    "target_set = [seq[i] for i in range(start, end + 1)]\n",
    "print(min(target_set) + max(target_set))"
   ]
  }
 ],
 "metadata": {
  "kernelspec": {
   "display_name": "Python 3",
   "language": "python",
   "name": "python3"
  },
  "language_info": {
   "codemirror_mode": {
    "name": "ipython",
    "version": 3
   },
   "file_extension": ".py",
   "mimetype": "text/x-python",
   "name": "python",
   "nbconvert_exporter": "python",
   "pygments_lexer": "ipython3",
   "version": "3.8.3"
  }
 },
 "nbformat": 4,
 "nbformat_minor": 4
}
