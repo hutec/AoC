{
 "cells": [
  {
   "cell_type": "code",
   "execution_count": 1,
   "metadata": {},
   "outputs": [],
   "source": [
    "from math import ceil\n",
    "from collections import namedtuple"
   ]
  },
  {
   "cell_type": "markdown",
   "metadata": {},
   "source": [
    "### Task 1"
   ]
  },
  {
   "cell_type": "code",
   "execution_count": 2,
   "metadata": {},
   "outputs": [],
   "source": [
    "with open(\"inputs/aoc13\", \"r\") as f:\n",
    "    seq = f.read().splitlines()\n",
    "    \n",
    "earliest_timestamp = int(seq[0])\n",
    "busses = [int(x) for x in seq[1].split(\",\") if x != \"x\"]"
   ]
  },
  {
   "cell_type": "code",
   "execution_count": 3,
   "metadata": {},
   "outputs": [
    {
     "data": {
      "text/plain": [
       "2045"
      ]
     },
     "execution_count": 3,
     "metadata": {},
     "output_type": "execute_result"
    }
   ],
   "source": [
    "waiting_times = list(map(lambda x: ceil(earliest_timestamp / x) * x - earliest_timestamp, busses))\n",
    "idx = waiting_times.index(min(waiting_times))\n",
    "busses[idx] * waiting_times[idx]"
   ]
  },
  {
   "cell_type": "markdown",
   "metadata": {},
   "source": [
    "### Task 2"
   ]
  },
  {
   "cell_type": "markdown",
   "metadata": {},
   "source": [
    "This solution utilizes the [Chinese remainder theorem](https://en.wikipedia.org/wiki/Chinese_remainder_theorem).\n",
    "Once we find a partial solution, we increase the step by multiplying with the bus id for which the solution was just found.\n",
    "$x_0$ is the partial solution and $M$ is step size. M is the product of all bus ids because they are all primes and thus all bus ids are pairwise coprime.\n",
    "$$x_0 + kM \\ (k \\in \\mathbb{Z})$$"
   ]
  },
  {
   "cell_type": "code",
   "execution_count": 4,
   "metadata": {},
   "outputs": [],
   "source": [
    "with open(\"inputs/aoc13\", \"r\") as f:\n",
    "    seq = f.read().splitlines()\n",
    "\n",
    "Bus = namedtuple(\"Bus\", [\"id\", \"departure\"])\n",
    "busses = [] \n",
    "for t, x in enumerate(seq[1].split(\",\")):\n",
    "    if x != \"x\":\n",
    "        busses.append(Bus(int(x), -t % int(x)))\n",
    "\n",
    "busses = sorted(busses, key=lambda x: x.id)"
   ]
  },
  {
   "cell_type": "code",
   "execution_count": 5,
   "metadata": {},
   "outputs": [
    {
     "name": "stdout",
     "output_type": "stream",
     "text": [
      "402251700208309\n"
     ]
    }
   ],
   "source": [
    "step, t = busses[0].id, busses[0].departure\n",
    "for bus in busses[1:]:    \n",
    "    while t % bus.id != bus.departure:    \n",
    "        t += step\n",
    "    step *= bus.id\n",
    "print(t)"
   ]
  }
 ],
 "metadata": {
  "kernelspec": {
   "display_name": "Python 3",
   "language": "python",
   "name": "python3"
  },
  "language_info": {
   "codemirror_mode": {
    "name": "ipython",
    "version": 3
   },
   "file_extension": ".py",
   "mimetype": "text/x-python",
   "name": "python",
   "nbconvert_exporter": "python",
   "pygments_lexer": "ipython3",
   "version": "3.8.3"
  }
 },
 "nbformat": 4,
 "nbformat_minor": 4
}
