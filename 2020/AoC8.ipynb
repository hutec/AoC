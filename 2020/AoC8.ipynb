{
 "cells": [
  {
   "cell_type": "code",
   "execution_count": 16,
   "metadata": {},
   "outputs": [],
   "source": [
    "with open(\"inputs/aoc8\", \"r\") as f:\n",
    "    seq = f.read().splitlines()"
   ]
  },
  {
   "cell_type": "code",
   "execution_count": 17,
   "metadata": {},
   "outputs": [],
   "source": [
    "operations = {\n",
    "    \"acc\": lambda i, arg, acc: (i + 1, acc + int(arg)),\n",
    "    \"jmp\": lambda i, arg, acc: (i + int(arg), acc),\n",
    "    \"nop\": lambda i, arg, acc: (i + 1, acc)\n",
    "}\n",
    "    \n",
    "def run(program):\n",
    "    executed = [False] * len(program)\n",
    "    i = 0\n",
    "    acc = 0\n",
    "    while (executed[i] == False):\n",
    "        op, arg = program[i].split(\" \")\n",
    "        executed[i] = True\n",
    "        i, acc = operations[op](i, arg, acc)\n",
    "        \n",
    "        if i >= len(program):\n",
    "            return acc, True\n",
    "            \n",
    "    return acc, False"
   ]
  },
  {
   "cell_type": "code",
   "execution_count": 18,
   "metadata": {},
   "outputs": [
    {
     "data": {
      "text/plain": [
       "(1262, False)"
      ]
     },
     "execution_count": 18,
     "metadata": {},
     "output_type": "execute_result"
    }
   ],
   "source": [
    "run(seq)"
   ]
  },
  {
   "cell_type": "code",
   "execution_count": 19,
   "metadata": {},
   "outputs": [],
   "source": [
    "def find_corrupt(seq):\n",
    "    for i, line in enumerate(seq):\n",
    "        if \"nop\" in line:\n",
    "            line = line.replace(\"nop\", \"jmp\")\n",
    "        elif \"jmp\" in line:\n",
    "            line = line.replace(\"jmp\", \"nop\")\n",
    "        else:\n",
    "            continue\n",
    "\n",
    "        temp_program = seq.copy()\n",
    "        temp_program[i] = line\n",
    "        acc, success = run(temp_program)\n",
    "        if success:\n",
    "            return acc"
   ]
  },
  {
   "cell_type": "code",
   "execution_count": 20,
   "metadata": {},
   "outputs": [],
   "source": [
    "a = [1,2,3,4]"
   ]
  },
  {
   "cell_type": "code",
   "execution_count": 15,
   "metadata": {},
   "outputs": [
    {
     "data": {
      "text/plain": [
       "1643"
      ]
     },
     "execution_count": 15,
     "metadata": {},
     "output_type": "execute_result"
    }
   ],
   "source": [
    "find_corrupt(seq)"
   ]
  }
 ],
 "metadata": {
  "kernelspec": {
   "display_name": "Python 3",
   "language": "python",
   "name": "python3"
  },
  "language_info": {
   "codemirror_mode": {
    "name": "ipython",
    "version": 3
   },
   "file_extension": ".py",
   "mimetype": "text/x-python",
   "name": "python",
   "nbconvert_exporter": "python",
   "pygments_lexer": "ipython3",
   "version": "3.8.3"
  }
 },
 "nbformat": 4,
 "nbformat_minor": 4
}
