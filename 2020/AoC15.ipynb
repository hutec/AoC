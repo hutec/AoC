{
 "cells": [
  {
   "cell_type": "markdown",
   "metadata": {},
   "source": [
    "Code solves the puzzle, but fails on task 2 on my JupyterHub because `memory` is 170MB big."
   ]
  },
  {
   "cell_type": "code",
   "execution_count": 25,
   "metadata": {},
   "outputs": [],
   "source": [
    "def task_dict(numbers, n_turns):\n",
    "    \n",
    "    memory = {number: turn + 1 for turn, number in enumerate(numbers[:-1])}\n",
    "    current_turn = len(numbers)\n",
    "    number = numbers[-1]\n",
    "\n",
    "    while current_turn != n_turns:\n",
    "        age = memory.get(number, 0)\n",
    "        if age != 0:\n",
    "            age = current_turn - memory[number]\n",
    "\n",
    "        memory[number] = current_turn\n",
    "        number = age\n",
    "        current_turn += 1\n",
    "\n",
    "    return number\n",
    "\n",
    "def task_array(numbers, n_turns):\n",
    "    memory = [0] * n_turns  # bigger number than `n_turns` won't be said\n",
    "    for turn, number in enumerate(numbers[:-1]):\n",
    "        memory[number] = turn + 1\n",
    "    \n",
    "    current_turn = len(numbers)\n",
    "    number = numbers[-1]\n",
    "\n",
    "    while current_turn != n_turns:\n",
    "        age = memory[number]\n",
    "        if age != 0:\n",
    "            age = current_turn - age\n",
    "        \n",
    "        memory[number] = current_turn\n",
    "        number = age\n",
    "        current_turn += 1\n",
    "\n",
    "    return number\n",
    "\n",
    "\n",
    "    "
   ]
  },
  {
   "cell_type": "code",
   "execution_count": 31,
   "metadata": {},
   "outputs": [
    {
     "name": "stdout",
     "output_type": "stream",
     "text": [
      "CPU times: user 313 µs, sys: 973 µs, total: 1.29 ms\n",
      "Wall time: 826 µs\n",
      "CPU times: user 619 µs, sys: 0 ns, total: 619 µs\n",
      "Wall time: 625 µs\n"
     ]
    },
    {
     "data": {
      "text/plain": [
       "257"
      ]
     },
     "execution_count": 31,
     "metadata": {},
     "output_type": "execute_result"
    }
   ],
   "source": [
    "numbers = [0, 14, 6, 20, 1, 4]\n",
    "%time task_array(numbers, 2020)\n",
    "%time task_dict(numbers, 2020)"
   ]
  },
  {
   "cell_type": "code",
   "execution_count": null,
   "metadata": {},
   "outputs": [],
   "source": []
  }
 ],
 "metadata": {
  "kernelspec": {
   "display_name": "Python 3",
   "language": "python",
   "name": "python3"
  },
  "language_info": {
   "codemirror_mode": {
    "name": "ipython",
    "version": 3
   },
   "file_extension": ".py",
   "mimetype": "text/x-python",
   "name": "python",
   "nbconvert_exporter": "python",
   "pygments_lexer": "ipython3",
   "version": "3.8.3"
  }
 },
 "nbformat": 4,
 "nbformat_minor": 4
}
