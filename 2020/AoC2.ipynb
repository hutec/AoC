{
 "cells": [
  {
   "cell_type": "code",
   "execution_count": 89,
   "metadata": {},
   "outputs": [],
   "source": [
    "with open(\"inputs/aoc2\", \"r\") as f:\n",
    "    seq = f.read().splitlines()"
   ]
  },
  {
   "cell_type": "code",
   "execution_count": 178,
   "metadata": {},
   "outputs": [],
   "source": [
    "def parse_policy(policy):\n",
    "    \"\"\"Input policy format is {val_1}-{val_2} {letter}\"\"\"\n",
    "    counts, letter = policy.split(\" \")\n",
    "    val_1, val_2 = counts.split(\"-\")\n",
    "    return int(val_1), int(val_2), letter\n",
    "\n",
    "def check_policy_1(password, policy):\n",
    "    min_count, max_count, letter = policy\n",
    "    return min_count <= password.count(letter) <= max_count\n",
    "\n",
    "def check_policy_2(password, policy):\n",
    "    pos_1, pos_2, letter = policy\n",
    "    return (password[pos_1 - 1] == letter) ^ (password[pos_2 - 1] == letter)"
   ]
  },
  {
   "cell_type": "code",
   "execution_count": 177,
   "metadata": {},
   "outputs": [
    {
     "name": "stdout",
     "output_type": "stream",
     "text": [
      "614\n",
      "354\n"
     ]
    }
   ],
   "source": [
    "valid_policy_1 = 0\n",
    "valid_policy_2 = 0\n",
    "for el in seq:\n",
    "    policy, password = el.split(\":\")\n",
    "    policy = parse_policy(policy)\n",
    "    password = password.strip()\n",
    "    valid_policy_1 += check_policy_1(password, policy)\n",
    "    valid_policy_2 += check_policy_2(password, policy)\n",
    "    \n",
    "print(valid_policy_1)\n",
    "print(valid_policy_2)"
   ]
  },
  {
   "cell_type": "markdown",
   "metadata": {},
   "source": [
    "---------------------"
   ]
  },
  {
   "cell_type": "code",
   "execution_count": 154,
   "metadata": {},
   "outputs": [],
   "source": [
    "import re\n",
    "from itertools import starmap"
   ]
  },
  {
   "cell_type": "code",
   "execution_count": 175,
   "metadata": {},
   "outputs": [
    {
     "name": "stdout",
     "output_type": "stream",
     "text": [
      "614\n",
      "354\n"
     ]
    }
   ],
   "source": [
    "def check_policy_1(min_count, max_count, letter, password):\n",
    "    return int(min_count) <= password.count(letter) <= int(max_count)\n",
    "\n",
    "def check_policy_2(pos_1, pos_2, letter, password):\n",
    "    return (password[int(pos_1) - 1] == letter) ^ (password[int(pos_2) - 1] == letter)\n",
    "    \n",
    "p = re.compile(\"([0-9]+)-([0-9]+) ([a-z]): ([a-z]+)\")\n",
    "\n",
    "print(sum(map(lambda x: check_policy_1(*p.match(x).groups()), seq)))\n",
    "print(sum(map(lambda x: check_policy_2(*p.match(x).groups()), seq)))"
   ]
  }
 ],
 "metadata": {
  "kernelspec": {
   "display_name": "Python 3",
   "language": "python",
   "name": "python3"
  },
  "language_info": {
   "codemirror_mode": {
    "name": "ipython",
    "version": 3
   },
   "file_extension": ".py",
   "mimetype": "text/x-python",
   "name": "python",
   "nbconvert_exporter": "python",
   "pygments_lexer": "ipython3",
   "version": "3.8.3"
  }
 },
 "nbformat": 4,
 "nbformat_minor": 4
}
