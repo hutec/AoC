{
 "cells": [
  {
   "cell_type": "code",
   "execution_count": 2,
   "metadata": {},
   "outputs": [],
   "source": [
    "with open(\"inputs/aoc5\", \"r\") as f:\n",
    "    seq = f.read().splitlines()"
   ]
  },
  {
   "cell_type": "code",
   "execution_count": 3,
   "metadata": {},
   "outputs": [],
   "source": [
    "def get_seat_id(boarding_pass):\n",
    "    row = boarding_pass[:-3].replace(\"F\", \"0\").replace(\"B\", \"1\")\n",
    "    col = boarding_pass[-3:].replace(\"L\", \"0\").replace(\"R\", \"1\")\n",
    "    return 8 * int(row, 2) + int(col, 2)"
   ]
  },
  {
   "cell_type": "code",
   "execution_count": 24,
   "metadata": {},
   "outputs": [
    {
     "name": "stdout",
     "output_type": "stream",
     "text": [
      "Max Seat ID 959\n",
      "Missing Seat ID {527}\n"
     ]
    }
   ],
   "source": [
    "ids = list(map(get_seat_id, seq))\n",
    "min_id, max_id = min(ids), max(ids)\n",
    "missing_id = set(range(min_id, max_id + 1)) - set(ids)\n",
    "\n",
    "print(f\"Max Seat ID {max_id}\")\n",
    "print(f\"Missing Seat ID {missing_id}\")"
   ]
  }
 ],
 "metadata": {
  "kernelspec": {
   "display_name": "Python 3",
   "language": "python",
   "name": "python3"
  },
  "language_info": {
   "codemirror_mode": {
    "name": "ipython",
    "version": 3
   },
   "file_extension": ".py",
   "mimetype": "text/x-python",
   "name": "python",
   "nbconvert_exporter": "python",
   "pygments_lexer": "ipython3",
   "version": "3.8.3"
  }
 },
 "nbformat": 4,
 "nbformat_minor": 4
}
