{
 "cells": [
  {
   "cell_type": "code",
   "execution_count": 1,
   "metadata": {},
   "outputs": [],
   "source": [
    "import re"
   ]
  },
  {
   "cell_type": "code",
   "execution_count": 2,
   "metadata": {},
   "outputs": [],
   "source": [
    "with open(\"inputs/aoc4\", \"r\") as f:\n",
    "    seq = f.read()"
   ]
  },
  {
   "cell_type": "code",
   "execution_count": 3,
   "metadata": {},
   "outputs": [],
   "source": [
    "def check_passports(seq, check_fn):\n",
    "    valid = 0\n",
    "    passport = {}\n",
    "    for line in seq.split(\"\\n\\n\"):  # split by blank line\n",
    "        passport_kvs = line.replace(\"\\n\", \" \").split(\" \")\n",
    "        passport = dict(map(lambda x: x.split(\":\"), passport_kvs))\n",
    "        valid += check_fn(passport)\n",
    "    return valid"
   ]
  },
  {
   "cell_type": "code",
   "execution_count": 22,
   "metadata": {},
   "outputs": [],
   "source": [
    "required_keys = set([\"byr\", \"iyr\", \"eyr\", \"hgt\", \"hcl\", \"ecl\", \"pid\"])\n",
    "\n",
    "def check_valid_1(passport):\n",
    "    return required_keys <= set(passport.keys())\n",
    "\n",
    "def check_valid_2(passport):\n",
    "    if not required_keys <= set(passport.keys()):\n",
    "        return False\n",
    "    \n",
    "    return (\n",
    "        check_byr(passport[\"byr\"]) and\n",
    "        check_iyr(passport[\"iyr\"]) and\n",
    "        check_eyr(passport[\"eyr\"]) and\n",
    "        check_hgt(passport[\"hgt\"]) and\n",
    "        check_hcl(passport[\"hcl\"]) and\n",
    "        check_ecl(passport[\"ecl\"]) and\n",
    "        check_pid(passport[\"pid\"])\n",
    "    )\n",
    "    \n",
    "def check_byr(byr):\n",
    "    return 1920 <= int(byr) <= 2002\n",
    "\n",
    "def check_iyr(iyr):\n",
    "    return 2010 <= int(iyr) <= 2020\n",
    "\n",
    "def check_eyr(eyr):\n",
    "    return 2020 <= int(eyr) <= 2030\n",
    "    \n",
    "def check_hgt(hgt):\n",
    "    match = re.match(\"(\\d+)(cm|in)\", hgt)\n",
    "    if match:\n",
    "        val, metric = match.groups()\n",
    "        if metric == \"in\":\n",
    "            return 59 <= int(val) <= 76\n",
    "        elif metric == \"cm\":\n",
    "            return 150 <= int(val) <= 193\n",
    "    return False\n",
    "         \n",
    "def check_hcl(hcl):\n",
    "    return re.match(\"#[0-9a-f]{6}$\", hcl) is not None\n",
    "\n",
    "def check_ecl(ecl):\n",
    "    return ecl in [\"amb\", \"blu\", \"brn\", \"gry\", \"grn\", \"hzl\", \"oth\"]\n",
    "    \n",
    "def check_pid(pid):\n",
    "    return p.match(\"\\d{9}$\", pid) is not None"
   ]
  },
  {
   "cell_type": "code",
   "execution_count": 20,
   "metadata": {},
   "outputs": [
    {
     "data": {
      "text/plain": [
       "235"
      ]
     },
     "execution_count": 20,
     "metadata": {},
     "output_type": "execute_result"
    }
   ],
   "source": [
    "check_passports(seq, check_valid_1)"
   ]
  },
  {
   "cell_type": "code",
   "execution_count": 21,
   "metadata": {},
   "outputs": [
    {
     "data": {
      "text/plain": [
       "194"
      ]
     },
     "execution_count": 21,
     "metadata": {},
     "output_type": "execute_result"
    }
   ],
   "source": [
    "check_passports(seq, check_valid_2)"
   ]
  }
 ],
 "metadata": {
  "kernelspec": {
   "display_name": "Python 3",
   "language": "python",
   "name": "python3"
  },
  "language_info": {
   "codemirror_mode": {
    "name": "ipython",
    "version": 3
   },
   "file_extension": ".py",
   "mimetype": "text/x-python",
   "name": "python",
   "nbconvert_exporter": "python",
   "pygments_lexer": "ipython3",
   "version": "3.8.3"
  }
 },
 "nbformat": 4,
 "nbformat_minor": 4
}
