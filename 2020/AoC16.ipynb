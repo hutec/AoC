{
 "cells": [
  {
   "cell_type": "code",
   "execution_count": 1,
   "metadata": {},
   "outputs": [],
   "source": [
    "import re"
   ]
  },
  {
   "cell_type": "code",
   "execution_count": 2,
   "metadata": {},
   "outputs": [],
   "source": [
    "with open(\"inputs/aoc16\", \"r\") as f:\n",
    "    seq = f.read().splitlines()"
   ]
  },
  {
   "cell_type": "code",
   "execution_count": 3,
   "metadata": {},
   "outputs": [],
   "source": [
    "fields = {}  # maps field name to valid values\n",
    "for line in seq:\n",
    "    for valid_range in re.findall(\"(\\d*-\\d*)\", line):\n",
    "        name = line.split(\":\")[0]\n",
    "        min_range, max_range = map(int, valid_range.split(\"-\"))\n",
    "        fields[name] = fields.get(name, set()).union(range(min_range, max_range+1))\n",
    "\n",
    "all_valid = set.union(*fields.values())  # set of all valid values"
   ]
  },
  {
   "cell_type": "code",
   "execution_count": 4,
   "metadata": {},
   "outputs": [
    {
     "name": "stdout",
     "output_type": "stream",
     "text": [
      "Error rate: 26869\n"
     ]
    }
   ],
   "source": [
    "nearby_tickets = seq[seq.index(\"nearby tickets:\") + 1:]\n",
    "nearby_tickets.append(seq[seq.index(\"your ticket:\") + 1])\n",
    "\n",
    "cols = [set() for _ in range(len(nearby_tickets[0].split(\",\")))]  # List of sets containing all values for columns\n",
    "error_rate = 0\n",
    "\n",
    "for ticket in nearby_tickets:\n",
    "    vals = list(map(int, ticket.split(\",\")))\n",
    "    error_rate_diff = sum(filter(lambda x: x not in all_valid, vals))\n",
    "    error_rate += error_rate_diff\n",
    "    \n",
    "    if error_rate_diff == 0:\n",
    "        for col, val in zip(cols, vals):\n",
    "            col.add(val)\n",
    "\n",
    "print(f\"Error rate: {error_rate}\")\n",
    "\n",
    "col_to_fields = {}  # maps column id to possible field\n",
    "for i, col in enumerate(cols):\n",
    "    col_to_fields[i] = set()\n",
    "    for field_name, field_ranges in fields.items():\n",
    "        if col.issubset(field_ranges):\n",
    "            col_to_fields[i].add(field_name)"
   ]
  },
  {
   "cell_type": "code",
   "execution_count": 5,
   "metadata": {},
   "outputs": [],
   "source": [
    "assigned_fields = []\n",
    "field_to_col = {}\n",
    "for col, possible_fields in sorted(col_to_fields.items(), key=lambda x: len(x[1])):\n",
    "    field = list(possible_fields.difference(assigned_fields))\n",
    "    if len(field) == 1:  # field can be resolved unambiguously\n",
    "        field_to_col[field[0]] = col\n",
    "        assigned_fields.append(field[0])"
   ]
  },
  {
   "cell_type": "code",
   "execution_count": 6,
   "metadata": {},
   "outputs": [
    {
     "data": {
      "text/plain": [
       "855275529001"
      ]
     },
     "execution_count": 6,
     "metadata": {},
     "output_type": "execute_result"
    }
   ],
   "source": [
    "my_ticket = list(map(int, seq[seq.index(\"your ticket:\") + 1].split(\",\")))\n",
    "ret = 1\n",
    "for field, col in field_to_col.items():\n",
    "    if field.startswith(\"departure\"):\n",
    "        ret *= my_ticket[col]\n",
    "ret     "
   ]
  }
 ],
 "metadata": {
  "kernelspec": {
   "display_name": "Python 3",
   "language": "python",
   "name": "python3"
  },
  "language_info": {
   "codemirror_mode": {
    "name": "ipython",
    "version": 3
   },
   "file_extension": ".py",
   "mimetype": "text/x-python",
   "name": "python",
   "nbconvert_exporter": "python",
   "pygments_lexer": "ipython3",
   "version": "3.8.3"
  }
 },
 "nbformat": 4,
 "nbformat_minor": 4
}
