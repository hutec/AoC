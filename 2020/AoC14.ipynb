{
 "cells": [
  {
   "cell_type": "code",
   "execution_count": 1,
   "metadata": {},
   "outputs": [],
   "source": [
    "import re\n",
    "from itertools import starmap, product"
   ]
  },
  {
   "cell_type": "code",
   "execution_count": 2,
   "metadata": {},
   "outputs": [],
   "source": [
    "with open(\"inputs/aoc14\", \"r\") as f:\n",
    "    seq = f.read().splitlines()"
   ]
  },
  {
   "cell_type": "markdown",
   "metadata": {},
   "source": [
    "### Task 1"
   ]
  },
  {
   "cell_type": "code",
   "execution_count": 3,
   "metadata": {},
   "outputs": [
    {
     "data": {
      "text/plain": [
       "11884151942312"
      ]
     },
     "execution_count": 3,
     "metadata": {},
     "output_type": "execute_result"
    }
   ],
   "source": [
    "mem = {}\n",
    "mask = None\n",
    "\n",
    "\n",
    "def mask_bit(val, mask):\n",
    "    if mask == \"X\":\n",
    "        return val\n",
    "    return mask\n",
    "\n",
    "def apply_mask_to_val(val, mask):\n",
    "    val = format(int(val), \"036b\")\n",
    "    val = \"\".join(starmap(mask_bit, zip(val, mask)))\n",
    "    return int(val, 2)\n",
    "\n",
    "for line in seq:\n",
    "    cmd, val = line.split(\"=\")\n",
    "    if cmd.startswith(\"mem\"):\n",
    "        addr = int(re.search(\"\\d+\", cmd).group())\n",
    "        mem[addr] = apply_mask_to_val(val, mask)\n",
    "    elif cmd.startswith(\"mask\"):\n",
    "        mask = val.strip()\n",
    "        \n",
    "sum(mem.values())"
   ]
  },
  {
   "cell_type": "markdown",
   "metadata": {},
   "source": [
    "### Task 2"
   ]
  },
  {
   "cell_type": "code",
   "execution_count": 4,
   "metadata": {},
   "outputs": [
    {
     "data": {
      "text/plain": [
       "2625449018811"
      ]
     },
     "execution_count": 4,
     "metadata": {},
     "output_type": "execute_result"
    }
   ],
   "source": [
    "mem = {}\n",
    "mask = None\n",
    "\n",
    "\n",
    "def mask_bit(bit, mask):\n",
    "    if mask == \"1\" or mask == \"X\":\n",
    "        return mask\n",
    "    return bit\n",
    "  \n",
    "\n",
    "def apply_mask_to_addr(addr, mask):\n",
    "    \"\"\"Yields all possible masked addresses as decimals.\"\"\"\n",
    "    addr = format(int(addr), \"036b\")\n",
    "    addr = \"\".join(starmap(mask_bit, zip(addr, mask)))\n",
    "    addr = addr.replace(\"X\", \"{}\")\n",
    "    for floats in product([0, 1], repeat=addr.count(\"{}\")):\n",
    "        yield int(addr.format(*floats), 2)\n",
    "\n",
    "for line in seq:\n",
    "    cmd, val = line.split(\"=\")\n",
    "    if cmd.startswith(\"mem\"):\n",
    "        addr = int(re.search(\"\\d+\", cmd).group())\n",
    "        for floating_addr in apply_mask_to_addr(addr, mask):\n",
    "            mem[floating_addr] = int(val)\n",
    "    elif cmd.startswith(\"mask\"):\n",
    "        mask = val.strip()\n",
    "        \n",
    "sum(mem.values())"
   ]
  }
 ],
 "metadata": {
  "kernelspec": {
   "display_name": "Python 3",
   "language": "python",
   "name": "python3"
  },
  "language_info": {
   "codemirror_mode": {
    "name": "ipython",
    "version": 3
   },
   "file_extension": ".py",
   "mimetype": "text/x-python",
   "name": "python",
   "nbconvert_exporter": "python",
   "pygments_lexer": "ipython3",
   "version": "3.8.3"
  }
 },
 "nbformat": 4,
 "nbformat_minor": 4
}
