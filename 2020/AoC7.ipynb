{
 "cells": [
  {
   "cell_type": "code",
   "execution_count": 43,
   "metadata": {},
   "outputs": [],
   "source": [
    "import re"
   ]
  },
  {
   "cell_type": "code",
   "execution_count": 44,
   "metadata": {},
   "outputs": [],
   "source": [
    "with open(\"inputs/aoc7\", \"r\") as f:\n",
    "    seq = f.read().splitlines()"
   ]
  },
  {
   "cell_type": "code",
   "execution_count": 74,
   "metadata": {},
   "outputs": [],
   "source": [
    "def parse_rule(rule):\n",
    "    color, content = re.match(\"([\\w\\s]+) bags contain ([\\s\\w,]+)\", rule).groups()\n",
    "    return color, parse_content(content)\n",
    "\n",
    "\n",
    "def parse_content(content):\n",
    "    if \"no other bags\" in content:\n",
    "        return {}\n",
    "\n",
    "    bags = map(lambda x: x.lstrip().split(\" \"), content.split(\",\"))\n",
    "    return {\" \".join(b[1:3]): b[0] for b in bags}\n",
    "\n",
    "\n",
    "def count_shiny(color):\n",
    "    \"\"\"Count the number of contained bags that can contain a shiny gold bag.\"\"\"\n",
    "    if color == \"shiny gold\":\n",
    "        return 1\n",
    "    else:\n",
    "        return sum(map(count_shiny, all_rules[color].keys()))\n",
    "\n",
    "\n",
    "def count_all_contained(color):\n",
    "    \"\"\"Count all bags contained within the bag of `color`.\"\"\"\n",
    "    if not all_rules[color]:\n",
    "        return 1\n",
    "    else:\n",
    "        # (color != \"shiny gold\") for counting the outer bag, unless it's the shiny gold bag\n",
    "        return (color != \"shiny gold\") + sum(\n",
    "            [\n",
    "                int(inner_count) * count_all_contained(inner_color)\n",
    "                for inner_color, inner_count in all_rules[color].items()\n",
    "            ]\n",
    "        )"
   ]
  },
  {
   "cell_type": "code",
   "execution_count": null,
   "metadata": {},
   "outputs": [],
   "source": [
    "all_rules = dict(map(parse_rule, seq))\n",
    "del all_rules[\"shiny gold\"]\n",
    "sum(map(lambda x: count_shiny(x) > 0, all_rules.keys()))"
   ]
  },
  {
   "cell_type": "code",
   "execution_count": 73,
   "metadata": {},
   "outputs": [
    {
     "data": {
      "text/plain": [
       "3805"
      ]
     },
     "execution_count": 73,
     "metadata": {},
     "output_type": "execute_result"
    }
   ],
   "source": [
    "all_rules = dict(map(parse_rule, seq))\n",
    "count_all_contained(\"shiny gold\")"
   ]
  }
 ],
 "metadata": {
  "kernelspec": {
   "display_name": "Python 3",
   "language": "python",
   "name": "python3"
  },
  "language_info": {
   "codemirror_mode": {
    "name": "ipython",
    "version": 3
   },
   "file_extension": ".py",
   "mimetype": "text/x-python",
   "name": "python",
   "nbconvert_exporter": "python",
   "pygments_lexer": "ipython3",
   "version": "3.8.3"
  }
 },
 "nbformat": 4,
 "nbformat_minor": 4
}
