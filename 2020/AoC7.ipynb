{
 "cells": [
  {
   "cell_type": "code",
   "execution_count": 561,
   "metadata": {},
   "outputs": [],
   "source": [
    "import re"
   ]
  },
  {
   "cell_type": "code",
   "execution_count": 562,
   "metadata": {},
   "outputs": [],
   "source": [
    "with open(\"inputs/aoc7\", \"r\") as f:\n",
    "    seq = f.read().splitlines()"
   ]
  },
  {
   "cell_type": "code",
   "execution_count": 563,
   "metadata": {},
   "outputs": [],
   "source": [
    "def parse_rule(rule):\n",
    "    outer_color, inner_bags = re.match(\"([\\w\\s]+) bags contain ([\\s\\w,]+)\", rule).groups()\n",
    "    return outer_color, parse_inner_bags(inner_bags)\n",
    " \n",
    "def parse_inner_bags(bags):\n",
    "    if \"no other bags\" in bags:\n",
    "        return []\n",
    "    else:\n",
    "        bags = map(lambda x: x.lstrip().split(\" \"), bags.split(\",\"))\n",
    "        return [\" \".join(b[1:3]) for b in bags]\n",
    "    \n",
    "\n",
    "    \n",
    "def count_shiny(color):\n",
    "    if color == \"shiny gold\":\n",
    "        return 1\n",
    "    else:\n",
    "        return sum(map(count_shiny, all_rules[color]))"
   ]
  },
  {
   "cell_type": "code",
   "execution_count": 564,
   "metadata": {},
   "outputs": [
    {
     "data": {
      "text/plain": [
       "121"
      ]
     },
     "execution_count": 564,
     "metadata": {},
     "output_type": "execute_result"
    }
   ],
   "source": [
    "all_rules = dict(map(parse_rule, seq))\n",
    "del all_rules[\"shiny gold\"]\n",
    "sum(map(lambda x: count_shiny(x) > 0, all_rules.keys()))"
   ]
  },
  {
   "cell_type": "markdown",
   "metadata": {},
   "source": [
    "--------------"
   ]
  },
  {
   "cell_type": "code",
   "execution_count": 567,
   "metadata": {},
   "outputs": [],
   "source": [
    "def parse_rule_2(rule):\n",
    "    outer_color, inner_bags = re.match(\"([\\w\\s]+) bags contain ([\\s\\w,]+)\", rule).groups()\n",
    "    return outer_color, parse_inner_bags_2(inner_bags)\n",
    "\n",
    "def parse_inner_bags_2(bags):\n",
    "    \"\"\"Inputs like `1 bright white bag, 2 muted yellow bags`\"\"\"\n",
    "    if \"no other bags\" in bags:\n",
    "        return {}\n",
    "    bags = map(lambda x: x.lstrip().split(\" \"), bags.split(\",\"))\n",
    "    return {\n",
    "        \" \".join(b[1:3]): b[0] for b in bags\n",
    "    }\n",
    "\n",
    "\n",
    "def count(color):\n",
    "    if not all_rules[color]:\n",
    "        return 1\n",
    "    else:\n",
    "        return (\n",
    "        \n",
    "        )\n",
    "        r = (color != \"shiny gold\")\n",
    "        r += sum([int(v) * count(k) for k, v in all_rules[color].items()])\n",
    "        return r"
   ]
  },
  {
   "cell_type": "code",
   "execution_count": 569,
   "metadata": {},
   "outputs": [],
   "source": [
    "all_rules = dict(map(parse_rule_2, seq))"
   ]
  },
  {
   "cell_type": "code",
   "execution_count": null,
   "metadata": {},
   "outputs": [],
   "source": []
  }
 ],
 "metadata": {
  "kernelspec": {
   "display_name": "Python 3",
   "language": "python",
   "name": "python3"
  },
  "language_info": {
   "codemirror_mode": {
    "name": "ipython",
    "version": 3
   },
   "file_extension": ".py",
   "mimetype": "text/x-python",
   "name": "python",
   "nbconvert_exporter": "python",
   "pygments_lexer": "ipython3",
   "version": "3.8.3"
  }
 },
 "nbformat": 4,
 "nbformat_minor": 4
}
