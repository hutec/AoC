{
 "cells": [
  {
   "cell_type": "code",
   "execution_count": 27,
   "metadata": {},
   "outputs": [],
   "source": [
    "import re\n",
    "import itertools"
   ]
  },
  {
   "cell_type": "code",
   "execution_count": 28,
   "metadata": {},
   "outputs": [],
   "source": [
    "rules = {}\n",
    "messages = []\n",
    "with open(\"inputs/aoc19\", \"r\") as f:\n",
    "    for line in f.read().splitlines():\n",
    "        if \":\" in line:\n",
    "            rule_id, rule = line.split(\":\")\n",
    "            rules[rule_id] = rule.strip()\n",
    "        else:\n",
    "            messages.append(line)\n",
    "    seq = f.read().splitlines()"
   ]
  },
  {
   "cell_type": "code",
   "execution_count": 29,
   "metadata": {},
   "outputs": [],
   "source": [
    "def resolve(rule: str, rules: dict):\n",
    "    \"\"\"Returns a list with matching strings.\"\"\"\n",
    "    if '\"' in rule:\n",
    "        return [rule.replace('\"', \"\")]\n",
    "        \n",
    "    r = []\n",
    "    for subrule in rule.split(\"|\"):\n",
    "        s = [resolve(rules[x], rules,) for x in re.findall(\"\\d+\", subrule)]\n",
    "        s = [\"\".join(x) for x in itertools.product(*s)]\n",
    "        r.extend(s)      \n",
    "    return set(r)"
   ]
  },
  {
   "cell_type": "code",
   "execution_count": null,
   "metadata": {},
   "outputs": [],
   "source": [
    "r = resolve(rules[\"0\"], rules)"
   ]
  },
  {
   "cell_type": "code",
   "execution_count": 26,
   "metadata": {},
   "outputs": [
    {
     "data": {
      "text/plain": [
       "104"
      ]
     },
     "execution_count": 26,
     "metadata": {},
     "output_type": "execute_result"
    }
   ],
   "source": [
    "sum(map(lambda m: m in r, messages))"
   ]
  },
  {
   "cell_type": "markdown",
   "metadata": {},
   "source": [
    "### Task 2"
   ]
  },
  {
   "cell_type": "code",
   "execution_count": 12,
   "metadata": {},
   "outputs": [],
   "source": [
    "rules_42 = resolve(rules[\"42\"], rules)\n",
    "rules_31 = resolve(rules[\"31\"], rules)\n",
    "\n",
    "def match_task_2(message):\n",
    "    for split in range(8, len(message) - 8, 8):\n",
    "        rule_8 = match_rule_8(message[:split])\n",
    "        rule_11 = match_rule_11(message[split:])\n",
    "        if rule_8 and rule_11:\n",
    "            return True\n",
    "    return False\n",
    "        \n",
    "def match_rule_8(message):\n",
    "    if not message:\n",
    "        return True\n",
    "    if message[:8] in rules_42:\n",
    "        return match_rule_8(message[8:])\n",
    "    return False \n",
    "    \n",
    "\n",
    "def match_rule_11(message):\n",
    "    if not message:\n",
    "        return True\n",
    "    if message[:8] in rules_42 and message[-8:] in rules_31:\n",
    "        return match_rule_11(message[8:-8])\n",
    "    return False"
   ]
  },
  {
   "cell_type": "code",
   "execution_count": 13,
   "metadata": {},
   "outputs": [
    {
     "data": {
      "text/plain": [
       "314"
      ]
     },
     "execution_count": 13,
     "metadata": {},
     "output_type": "execute_result"
    }
   ],
   "source": [
    "sum(map(match_task_2, messages))"
   ]
  }
 ],
 "metadata": {
  "kernelspec": {
   "display_name": "Python 3",
   "language": "python",
   "name": "python3"
  },
  "language_info": {
   "codemirror_mode": {
    "name": "ipython",
    "version": 3
   },
   "file_extension": ".py",
   "mimetype": "text/x-python",
   "name": "python",
   "nbconvert_exporter": "python",
   "pygments_lexer": "ipython3",
   "version": "3.8.3"
  }
 },
 "nbformat": 4,
 "nbformat_minor": 4
}
