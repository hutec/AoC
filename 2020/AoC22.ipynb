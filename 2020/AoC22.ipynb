{
 "cells": [
  {
   "cell_type": "code",
   "execution_count": 284,
   "metadata": {},
   "outputs": [],
   "source": [
    "with open(\"inputs/aoc22\", \"r\") as f:\n",
    "    seq = f.read()\n",
    "\n",
    "decks = []\n",
    "for player in seq.split(\"\\n\\n\"):\n",
    "    decks.append(list(map(int, player.splitlines()[1:])))\n",
    "    "
   ]
  },
  {
   "cell_type": "code",
   "execution_count": 285,
   "metadata": {},
   "outputs": [],
   "source": [
    "def score(deck):\n",
    "    return sum([(i + 1) * v for i, v in enumerate(list(deck)[::-1])])\n",
    "\n",
    "def combat(decks):\n",
    "    decks = [decks[0].copy(), decks[1].copy()]\n",
    "    \n",
    "    while decks[0] and decks[1]:\n",
    "        card_1 = decks[0].pop(0)\n",
    "        card_2 = decks[1].pop(0)\n",
    "\n",
    "        if card_1 > card_2:\n",
    "            decks[0].extend([card_1, card_2])\n",
    "        else:\n",
    "            decks[1].extend([card_2, card_1])\n",
    "\n",
    "    return list(map(score, decks))"
   ]
  },
  {
   "cell_type": "code",
   "execution_count": 286,
   "metadata": {},
   "outputs": [
    {
     "data": {
      "text/plain": [
       "[33421, 0]"
      ]
     },
     "execution_count": 286,
     "metadata": {},
     "output_type": "execute_result"
    }
   ],
   "source": [
    "combat(decks)"
   ]
  },
  {
   "cell_type": "markdown",
   "metadata": {},
   "source": [
    "### Task 2"
   ]
  },
  {
   "cell_type": "code",
   "execution_count": 287,
   "metadata": {},
   "outputs": [],
   "source": [
    "def recursive_combat(decks, game_id):\n",
    "    decks = [decks[0].copy(), decks[1].copy()]\n",
    "    history = []\n",
    "    \n",
    "    while decks[0] and decks[1]:       \n",
    "        if decks[0] in history:\n",
    "            return True\n",
    "\n",
    "        history.append(decks[0].copy())\n",
    "\n",
    "        card_1 = decks[0].pop(0)\n",
    "        card_2 = decks[1].pop(0)\n",
    "\n",
    "        if card_1 <= len(decks[0]) and card_2 <= len(decks[1]):\n",
    "            sub_deck = [decks[0][:card_1], decks[1][:card_2]]\n",
    "            player_1_wins = recursive_combat(sub_deck, game_id + 1)\n",
    "            sub_game_id += 1\n",
    "        else:\n",
    "            player_1_wins = card_1 > card_2\n",
    "\n",
    "        if player_1_wins:\n",
    "            decks[0].extend([card_1, card_2])\n",
    "        else:\n",
    "            decks[1].extend([card_2, card_1])  \n",
    "    \n",
    "    if game_id == 1:\n",
    "        return list(map(score, decks))\n",
    "    \n",
    "    return len(decks[1]) == 0"
   ]
  },
  {
   "cell_type": "code",
   "execution_count": 288,
   "metadata": {},
   "outputs": [
    {
     "ename": "UnboundLocalError",
     "evalue": "local variable 'sub_game_id' referenced before assignment",
     "output_type": "error",
     "traceback": [
      "\u001b[0;31m---------------------------------------------------------------------------\u001b[0m",
      "\u001b[0;31mUnboundLocalError\u001b[0m                         Traceback (most recent call last)",
      "\u001b[0;32m<ipython-input-288-d7fc9a1771d4>\u001b[0m in \u001b[0;36m<module>\u001b[0;34m\u001b[0m\n\u001b[0;32m----> 1\u001b[0;31m \u001b[0mrecursive_combat\u001b[0m\u001b[0;34m(\u001b[0m\u001b[0mdecks\u001b[0m\u001b[0;34m,\u001b[0m \u001b[0;36m1\u001b[0m\u001b[0;34m)\u001b[0m\u001b[0;34m\u001b[0m\u001b[0;34m\u001b[0m\u001b[0m\n\u001b[0m",
      "\u001b[0;32m<ipython-input-287-dfeeb2db88a1>\u001b[0m in \u001b[0;36mrecursive_combat\u001b[0;34m(decks, game_id)\u001b[0m\n\u001b[1;32m     15\u001b[0m             \u001b[0msub_deck\u001b[0m \u001b[0;34m=\u001b[0m \u001b[0;34m[\u001b[0m\u001b[0mdecks\u001b[0m\u001b[0;34m[\u001b[0m\u001b[0;36m0\u001b[0m\u001b[0;34m]\u001b[0m\u001b[0;34m[\u001b[0m\u001b[0;34m:\u001b[0m\u001b[0mcard_1\u001b[0m\u001b[0;34m]\u001b[0m\u001b[0;34m,\u001b[0m \u001b[0mdecks\u001b[0m\u001b[0;34m[\u001b[0m\u001b[0;36m1\u001b[0m\u001b[0;34m]\u001b[0m\u001b[0;34m[\u001b[0m\u001b[0;34m:\u001b[0m\u001b[0mcard_2\u001b[0m\u001b[0;34m]\u001b[0m\u001b[0;34m]\u001b[0m\u001b[0;34m\u001b[0m\u001b[0;34m\u001b[0m\u001b[0m\n\u001b[1;32m     16\u001b[0m             \u001b[0mplayer_1_wins\u001b[0m \u001b[0;34m=\u001b[0m \u001b[0mrecursive_combat\u001b[0m\u001b[0;34m(\u001b[0m\u001b[0msub_deck\u001b[0m\u001b[0;34m,\u001b[0m \u001b[0mgame_id\u001b[0m \u001b[0;34m+\u001b[0m \u001b[0;36m1\u001b[0m\u001b[0;34m)\u001b[0m\u001b[0;34m\u001b[0m\u001b[0;34m\u001b[0m\u001b[0m\n\u001b[0;32m---> 17\u001b[0;31m             \u001b[0msub_game_id\u001b[0m \u001b[0;34m+=\u001b[0m \u001b[0;36m1\u001b[0m\u001b[0;34m\u001b[0m\u001b[0;34m\u001b[0m\u001b[0m\n\u001b[0m\u001b[1;32m     18\u001b[0m         \u001b[0;32melse\u001b[0m\u001b[0;34m:\u001b[0m\u001b[0;34m\u001b[0m\u001b[0;34m\u001b[0m\u001b[0m\n\u001b[1;32m     19\u001b[0m             \u001b[0mplayer_1_wins\u001b[0m \u001b[0;34m=\u001b[0m \u001b[0mcard_1\u001b[0m \u001b[0;34m>\u001b[0m \u001b[0mcard_2\u001b[0m\u001b[0;34m\u001b[0m\u001b[0;34m\u001b[0m\u001b[0m\n",
      "\u001b[0;31mUnboundLocalError\u001b[0m: local variable 'sub_game_id' referenced before assignment"
     ]
    }
   ],
   "source": [
    "recursive_combat(decks, 1)"
   ]
  },
  {
   "cell_type": "code",
   "execution_count": null,
   "metadata": {},
   "outputs": [],
   "source": []
  }
 ],
 "metadata": {
  "kernelspec": {
   "display_name": "Python 3",
   "language": "python",
   "name": "python3"
  },
  "language_info": {
   "codemirror_mode": {
    "name": "ipython",
    "version": 3
   },
   "file_extension": ".py",
   "mimetype": "text/x-python",
   "name": "python",
   "nbconvert_exporter": "python",
   "pygments_lexer": "ipython3",
   "version": "3.8.3"
  }
 },
 "nbformat": 4,
 "nbformat_minor": 4
}
