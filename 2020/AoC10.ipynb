{
 "cells": [
  {
   "cell_type": "code",
   "execution_count": 1,
   "metadata": {},
   "outputs": [],
   "source": [
    "import operator\n",
    "from itertools import starmap"
   ]
  },
  {
   "cell_type": "code",
   "execution_count": 2,
   "metadata": {},
   "outputs": [],
   "source": [
    "with open(\"inputs/aoc10\", \"r\") as f:\n",
    "    seq = f.read().splitlines()\n",
    "seq = list(map(int, seq))"
   ]
  },
  {
   "cell_type": "code",
   "execution_count": 3,
   "metadata": {},
   "outputs": [],
   "source": [
    "def task1(ratings):\n",
    "    ratings = sorted(ratings)\n",
    "    diffs = list(starmap(operator.sub, zip(ratings[1:], ratings)))\n",
    "    return diffs.count(1) * diffs.count(3)"
   ]
  },
  {
   "cell_type": "code",
   "execution_count": 4,
   "metadata": {},
   "outputs": [
    {
     "data": {
      "text/plain": [
       "2484"
      ]
     },
     "execution_count": 4,
     "metadata": {},
     "output_type": "execute_result"
    }
   ],
   "source": [
    "task1(seq + [0, max(seq) + 3])"
   ]
  },
  {
   "cell_type": "code",
   "execution_count": 5,
   "metadata": {},
   "outputs": [],
   "source": [
    "def count_combinations(ratings, visited = {}):\n",
    "    \"\"\"Depth-first search, assume ratings is sorted.\n",
    "    First entry in ratings is the current rating.\n",
    "    \"\"\"\n",
    "    if len(ratings) == 2:\n",
    "        return 1  # End of the search\n",
    "    \n",
    "    counts = 0\n",
    "    for i in range(1, len(ratings) - 1):\n",
    "        if (ratings[i] - ratings[0]) <= 3:\n",
    "            counts += visited.get(len(ratings[i:])) or count_combinations(ratings[i:], visited)\n",
    "        else:\n",
    "            break\n",
    "            \n",
    "    visited[len(ratings)] = counts\n",
    "    return counts\n",
    "        "
   ]
  },
  {
   "cell_type": "code",
   "execution_count": 6,
   "metadata": {},
   "outputs": [
    {
     "data": {
      "text/plain": [
       "15790581481472"
      ]
     },
     "execution_count": 6,
     "metadata": {},
     "output_type": "execute_result"
    }
   ],
   "source": [
    "ratings = sorted(seq + [0, max(seq) + 3])\n",
    "count_combinations(ratings)"
   ]
  }
 ],
 "metadata": {
  "kernelspec": {
   "display_name": "Python 3",
   "language": "python",
   "name": "python3"
  },
  "language_info": {
   "codemirror_mode": {
    "name": "ipython",
    "version": 3
   },
   "file_extension": ".py",
   "mimetype": "text/x-python",
   "name": "python",
   "nbconvert_exporter": "python",
   "pygments_lexer": "ipython3",
   "version": "3.8.3"
  }
 },
 "nbformat": 4,
 "nbformat_minor": 4
}
