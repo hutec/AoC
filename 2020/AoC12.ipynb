{
 "cells": [
  {
   "cell_type": "code",
   "execution_count": 85,
   "metadata": {},
   "outputs": [],
   "source": [
    "with open(\"inputs/aoc12\", \"r\") as f:\n",
    "    seq = f.read().splitlines()"
   ]
  },
  {
   "cell_type": "markdown",
   "metadata": {},
   "source": [
    "* Action N means to move north by the given value.\n",
    "* Action S means to move south by the given value.\n",
    "* Action E means to move east by the given value.\n",
    "* Action W means to move west by the given value.\n",
    "* Action L means to turn left the given number of degrees.\n",
    "* Action R means to turn right the given number of degrees.\n",
    "* Action F means to move forward by the given value in the direction the ship is currently facing."
   ]
  },
  {
   "cell_type": "code",
   "execution_count": 86,
   "metadata": {},
   "outputs": [],
   "source": [
    "def parse_action(line):\n",
    "    return line[:1], int(line[1:])\n",
    "actions = list(map(parse_action, seq))"
   ]
  },
  {
   "cell_type": "markdown",
   "metadata": {},
   "source": [
    "### Task 1"
   ]
  },
  {
   "cell_type": "code",
   "execution_count": 87,
   "metadata": {},
   "outputs": [
    {
     "data": {
      "text/plain": [
       "441"
      ]
     },
     "execution_count": 87,
     "metadata": {},
     "output_type": "execute_result"
    }
   ],
   "source": [
    "directions = [(1, 0), (0, -1), (-1, 0), (0, 1)]  # east, south, west, north\n",
    "pos = [0, 0]\n",
    "direction_idx = 0  # east\n",
    "for action, val in actions:\n",
    "    if action == \"N\":\n",
    "        pos[1] += val\n",
    "    elif action == \"S\":\n",
    "        pos[1] -= val\n",
    "    elif action == \"E\":\n",
    "        pos[0] += val\n",
    "    elif action == \"W\":\n",
    "        pos[0] -= val\n",
    "    elif action == \"R\":\n",
    "        direction_idx = (direction_idx + val // 90) % 4\n",
    "    elif action == \"L\":\n",
    "        direction_idx = (direction_idx - val // 90) % 4\n",
    "    elif action == \"F\":\n",
    "        pos[0] += directions[direction_idx][0] * val\n",
    "        pos[1] += directions[direction_idx][1] * val\n",
    "\n",
    "sum(map(abs, pos))"
   ]
  },
  {
   "cell_type": "markdown",
   "metadata": {},
   "source": [
    "### Task 2"
   ]
  },
  {
   "cell_type": "code",
   "execution_count": 89,
   "metadata": {},
   "outputs": [
    {
     "data": {
      "text/plain": [
       "40014"
      ]
     },
     "execution_count": 89,
     "metadata": {},
     "output_type": "execute_result"
    }
   ],
   "source": [
    "ship_pos = [0, 0]\n",
    "waypoint_pos = [10, 1]\n",
    "\n",
    "rotations = [\n",
    "    lambda pos: pos,\n",
    "    lambda pos: [pos[1], -pos[0]],\n",
    "    lambda pos: [-pos[0], -pos[1]],\n",
    "    lambda pos: [-pos[1], pos[0]],\n",
    "]\n",
    "\n",
    "for action, val in actions:\n",
    "    if action == \"N\":\n",
    "        waypoint_pos[1] += val\n",
    "    elif action == \"S\":\n",
    "        waypoint_pos[1] -= val\n",
    "    elif action == \"E\":\n",
    "        waypoint_pos[0] += val\n",
    "    elif action == \"W\":\n",
    "        waypoint_pos[0] -= val\n",
    "    elif action == \"R\":\n",
    "        waypoint_pos = rotations[val//90 % 4](waypoint_pos)\n",
    "    elif action == \"L\":\n",
    "        waypoint_pos = rotations[-val//90 % 4](waypoint_pos)\n",
    "    elif action == \"F\":\n",
    "        ship_pos[0] += waypoint_pos[0] * val\n",
    "        ship_pos[1] += waypoint_pos[1] * val\n",
    "\n",
    "sum(map(abs, ship_pos))"
   ]
  },
  {
   "cell_type": "code",
   "execution_count": null,
   "metadata": {},
   "outputs": [],
   "source": []
  }
 ],
 "metadata": {
  "kernelspec": {
   "display_name": "Python 3",
   "language": "python",
   "name": "python3"
  },
  "language_info": {
   "codemirror_mode": {
    "name": "ipython",
    "version": 3
   },
   "file_extension": ".py",
   "mimetype": "text/x-python",
   "name": "python",
   "nbconvert_exporter": "python",
   "pygments_lexer": "ipython3",
   "version": "3.8.3"
  }
 },
 "nbformat": 4,
 "nbformat_minor": 4
}
