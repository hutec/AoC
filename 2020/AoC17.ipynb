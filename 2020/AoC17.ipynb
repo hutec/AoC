{
 "cells": [
  {
   "cell_type": "code",
   "execution_count": 1,
   "metadata": {},
   "outputs": [],
   "source": [
    "import itertools\n",
    "from collections import defaultdict\n",
    "from operator import add"
   ]
  },
  {
   "cell_type": "code",
   "execution_count": 2,
   "metadata": {},
   "outputs": [],
   "source": [
    "with open(\"inputs/aoc17\", \"r\") as f:\n",
    "    seq = f.read().splitlines()"
   ]
  },
  {
   "cell_type": "markdown",
   "metadata": {},
   "source": [
    "* If a cube is active and exactly 2 or 3 of its neighbors are also active, the cube remains active. Otherwise, the cube becomes inactive.\n",
    "* If a cube is inactive but exactly 3 of its neighbors are active, the cube becomes active. Otherwise, the cube remains inactive."
   ]
  },
  {
   "cell_type": "code",
   "execution_count": 3,
   "metadata": {},
   "outputs": [],
   "source": [
    "def get_neighbor_offsets(n_dimensions):\n",
    "    neighbor_offsets = list(itertools.product([-1, 0, 1], repeat=n_dimensions))\n",
    "    neighbor_offsets.remove((0,) * n_dimensions)\n",
    "    return neighbor_offsets\n",
    "    \n",
    "\n",
    "def build_world(seq, n_dimensions):\n",
    "    \"\"\"Builds initial world from input.\"\"\"\n",
    "    extra_dims = [0] * (n_dimensions - 2)\n",
    "    world = defaultdict(lambda: \".\")\n",
    "    for y, row in enumerate(seq):\n",
    "        for x, val in enumerate(row):\n",
    "            world[(x, y, *extra_dims)] = val\n",
    "    return world\n",
    "\n",
    "def count_active_neighbors(world, cube, offsets):\n",
    "    \"\"\"Count neighbors in world given cube coordinates.\"\"\"\n",
    "    active = 0\n",
    "    for offset in offsets:\n",
    "        neighbor = tuple(map(add, cube, offset))\n",
    "        active += world[neighbor] == \"#\"\n",
    "    return active\n",
    "        \n",
    "\n",
    "def simulate(world, cycles):\n",
    "    \"\"\"Simulate the world for multiple cycles\"\"\"\n",
    "    # Ranges of cubes to consider\n",
    "    ranges = list(map(lambda x: (min(x), max(x) +1), zip(*world.keys())))\n",
    "    n_dimensions = len(ranges)\n",
    "    offsets = get_neighbor_offsets(n_dimensions)\n",
    "\n",
    "    for cycle in range(1, cycles + 1):        \n",
    "        new_world = world.copy()\n",
    "        for cube in itertools.product(*map(lambda r: range(r[0] - cycle, r[1] + cycle), ranges)):\n",
    "            active = count_active_neighbors(world, cube, offsets)\n",
    "\n",
    "            if world[cube] == \"#\" and active not in [2, 3]:\n",
    "                new_world[cube] = \".\"\n",
    "            elif world[cube] == \".\" and active == 3:\n",
    "                new_world[cube] = \"#\"\n",
    "                 \n",
    "        world = new_world\n",
    "    return world"
   ]
  },
  {
   "cell_type": "code",
   "execution_count": 4,
   "metadata": {},
   "outputs": [
    {
     "data": {
      "text/plain": [
       "242"
      ]
     },
     "execution_count": 4,
     "metadata": {},
     "output_type": "execute_result"
    }
   ],
   "source": [
    "world = build_world(seq, n_dimensions=3)\n",
    "world = simulate(world, 6)\n",
    "list(itertools.chain.from_iterable(world.values())).count(\"#\")"
   ]
  },
  {
   "cell_type": "code",
   "execution_count": 5,
   "metadata": {},
   "outputs": [
    {
     "data": {
      "text/plain": [
       "2292"
      ]
     },
     "execution_count": 5,
     "metadata": {},
     "output_type": "execute_result"
    }
   ],
   "source": [
    "world = build_world(seq, n_dimensions=4)\n",
    "world = simulate(world, 6)\n",
    "list(itertools.chain.from_iterable(world.values())).count(\"#\")"
   ]
  }
 ],
 "metadata": {
  "kernelspec": {
   "display_name": "Python 3",
   "language": "python",
   "name": "python3"
  },
  "language_info": {
   "codemirror_mode": {
    "name": "ipython",
    "version": 3
   },
   "file_extension": ".py",
   "mimetype": "text/x-python",
   "name": "python",
   "nbconvert_exporter": "python",
   "pygments_lexer": "ipython3",
   "version": "3.8.3"
  }
 },
 "nbformat": 4,
 "nbformat_minor": 4
}
