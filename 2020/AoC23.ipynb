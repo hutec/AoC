{
 "cells": [
  {
   "cell_type": "code",
   "execution_count": 24,
   "metadata": {},
   "outputs": [],
   "source": [
    "import numpy as np"
   ]
  },
  {
   "cell_type": "code",
   "execution_count": null,
   "metadata": {},
   "outputs": [],
   "source": [
    "np.linspace(1, 100)"
   ]
  },
  {
   "cell_type": "code",
   "execution_count": 11,
   "metadata": {},
   "outputs": [],
   "source": [
    "class Cup:\n",
    "    def __init__(self, val):\n",
    "        self.val = int(val)\n",
    "        self.next_cup = None"
   ]
  },
  {
   "cell_type": "code",
   "execution_count": 14,
   "metadata": {},
   "outputs": [
    {
     "name": "stdout",
     "output_type": "stream",
     "text": [
      "82573496\n"
     ]
    }
   ],
   "source": [
    "cups = \"156794823\"\n",
    "cups = list(map(Cup, cups))\n",
    "for cup, next_cup in zip(cups, cups[1:] + [cups[0]]):\n",
    "    cup.next_cup = next_cup\n",
    "cups = {c.val : c for c in cups}\n",
    "\n",
    "current = cups[1]\n",
    "for _ in range(100):\n",
    "    pickup = current.next_cup, current.next_cup.next_cup, current.next_cup.next_cup.next_cup\n",
    "    pickup_vals = [c.val for c in pickup]\n",
    "    \n",
    "    destination = current.val - 1 if current.val > 1 else 9\n",
    "    while destination in pickup_vals:\n",
    "        destination -= 1\n",
    "        if destination < 1:\n",
    "            destination = 9\n",
    "        \n",
    "    current.next_cup = pickup[-1].next_cup\n",
    "    current = current.next_cup\n",
    "    \n",
    "    # Reinsert pickup after destination\n",
    "    destination = cups[destination]\n",
    "    pickup[-1].next_cup = destination.next_cup\n",
    "    destination.next_cup = pickup[0]\n",
    "    \n",
    "x = cups[1]\n",
    "res = []\n",
    "for _ in range(len(cups) - 1):\n",
    "    x = x.next_cup\n",
    "    res.append(str(x.val))\n",
    "print(\"\".join(res))"
   ]
  },
  {
   "cell_type": "code",
   "execution_count": 3,
   "metadata": {},
   "outputs": [
    {
     "data": {
      "text/plain": [
       "11498506800"
      ]
     },
     "execution_count": 3,
     "metadata": {},
     "output_type": "execute_result"
    }
   ],
   "source": [
    "cups = list(\"156794823\")\n",
    "cups = list(map(Cup, cups + list(range(10, 1000000 + 1))))\n",
    "for cup, next_cup in zip(cups, cups[1:] + [cups[0]]):\n",
    "    cup.next_cup = next_cup    \n",
    "cups = {c.val : c for c in cups}\n",
    "\n",
    "current = cups[1]\n",
    "for _ in range(10000000):\n",
    "    pickup = current.next_cup, current.next_cup.next_cup, current.next_cup.next_cup.next_cup\n",
    "    pickup_vals = [c.val for c in pickup]\n",
    "    \n",
    "    destination = current.val - 1 if current.val > 1 else 1000000\n",
    "    while destination in pickup_vals:\n",
    "        destination -= 1\n",
    "        if destination < 1:\n",
    "            destination = 1000000\n",
    "        \n",
    "    current.next_cup = pickup[-1].next_cup\n",
    "    current = current.next_cup\n",
    "    \n",
    "    destination = cups[destination]\n",
    "    pickup[-1].next_cup = destination.next_cup\n",
    "    destination.next_cup = pickup[0]\n",
    "    \n",
    "cups[1].next_cup.val * cups[1].next_cup.next_cup.val"
   ]
  }
 ],
 "metadata": {
  "kernelspec": {
   "display_name": "Python 3",
   "language": "python",
   "name": "python3"
  },
  "language_info": {
   "codemirror_mode": {
    "name": "ipython",
    "version": 3
   },
   "file_extension": ".py",
   "mimetype": "text/x-python",
   "name": "python",
   "nbconvert_exporter": "python",
   "pygments_lexer": "ipython3",
   "version": "3.8.3"
  }
 },
 "nbformat": 4,
 "nbformat_minor": 4
}
