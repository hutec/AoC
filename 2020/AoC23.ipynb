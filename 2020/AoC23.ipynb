{
 "cells": [
  {
   "cell_type": "code",
   "execution_count": 248,
   "metadata": {},
   "outputs": [],
   "source": [
    "import numpy as np"
   ]
  },
  {
   "cell_type": "code",
   "execution_count": 268,
   "metadata": {},
   "outputs": [],
   "source": [
    "\n",
    "\n",
    "def game(cups, current):\n",
    "    current_idx = np.nonzero(cups == current)[0][0]\n",
    "    #print(f\"cups: {list(cups)}\")\n",
    "    #print(f\"current cup: {current} @ {current_idx}\")\n",
    "    \n",
    "    pickup_idx = np.mod(np.arange(current_idx + 1, current_idx + 4), len(cups))\n",
    "    pickup = np.take(cups, pickup_idx)\n",
    "    cups = np.delete(cups, pickup_idx)\n",
    "    #print(f\"pickup {pickup}\")\n",
    "        \n",
    "    # Determine next destination\n",
    "    destination = current - 1\n",
    "    while destination not in cups:\n",
    "        if destination < min_val:\n",
    "            destination = max_val\n",
    "        else:\n",
    "            destination -= 1\n",
    "    #print(f\"destination: {destination}\\n\")\n",
    "          \n",
    "    destination_idx = np.nonzero(cups == destination)[0][0]\n",
    "    cups = np.insert(cups, destination_idx + 1, pickup)\n",
    "    return cups"
   ]
  },
  {
   "cell_type": "code",
   "execution_count": 269,
   "metadata": {},
   "outputs": [
    {
     "data": {
      "text/plain": [
       "'82573496'"
      ]
     },
     "execution_count": 269,
     "metadata": {},
     "output_type": "execute_result"
    }
   ],
   "source": [
    "cups = \"156794823\"\n",
    "cups = np.array([int(c) for c in cups])\n",
    "current = cups[0]\n",
    "\n",
    "min_val = min(cups)\n",
    "max_val = max(cups)\n",
    "\n",
    "for i in range(1, 101):\n",
    "    #print(f\"move {i}\")\n",
    "    cups = game(cups, current)\n",
    "    current_idx = np.nonzero(cups == current)[0][0]\n",
    "    current = cups[(current_idx + 1) % len(cups)]\n",
    "    \n",
    "\"\".join(list((map(str, np.roll(cups, -list(cups).index(1))[1:]))))"
   ]
  },
  {
   "cell_type": "markdown",
   "metadata": {},
   "source": [
    "### Part 2"
   ]
  },
  {
   "cell_type": "code",
   "execution_count": 267,
   "metadata": {},
   "outputs": [],
   "source": [
    "cups = \"54321\"\n",
    "cups = np.array([int(c) for c in cups])\n",
    "cups = np.concatenate((cups, np.arange(max(cups) + 1, 1e6+1, dtype=int)))\n",
    "for i in range(1, 100):\n",
    "    cups = game(cups, current)\n",
    "    current_idx = list(cups).index(current)\n",
    "    current = cups[(current_idx + 1) % len(cups)]"
   ]
  }
 ],
 "metadata": {
  "kernelspec": {
   "display_name": "Python 3",
   "language": "python",
   "name": "python3"
  },
  "language_info": {
   "codemirror_mode": {
    "name": "ipython",
    "version": 3
   },
   "file_extension": ".py",
   "mimetype": "text/x-python",
   "name": "python",
   "nbconvert_exporter": "python",
   "pygments_lexer": "ipython3",
   "version": "3.8.3"
  }
 },
 "nbformat": 4,
 "nbformat_minor": 4
}
