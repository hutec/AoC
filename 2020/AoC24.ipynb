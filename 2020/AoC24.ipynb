{
 "cells": [
  {
   "cell_type": "code",
   "execution_count": 284,
   "metadata": {},
   "outputs": [],
   "source": [
    "import re\n",
    "from operator import add\n",
    "from collections import defaultdict\n",
    "import copy"
   ]
  },
  {
   "cell_type": "code",
   "execution_count": 285,
   "metadata": {},
   "outputs": [],
   "source": [
    "with open(\"inputs/aoc24\", \"r\") as f:\n",
    "    tiles = f.read().splitlines()"
   ]
  },
  {
   "cell_type": "code",
   "execution_count": 286,
   "metadata": {},
   "outputs": [],
   "source": [
    "dirs = {\n",
    "    \"e\": (1, 0, -1),\n",
    "    \"se\": (0, 1, -1),\n",
    "    \"sw\": (-1, 1, 0),\n",
    "    \"w\": (-1, 0, 1),\n",
    "    \"nw\": (0, -1, 1),\n",
    "    \"ne\": (1, -1, 0),\n",
    "}\n",
    "\n",
    "def coordinates(tile):\n",
    "    \"\"\"Tile directions to coordinates\"\"\"\n",
    "    i = 0\n",
    "    pos = (0, 0, 0)\n",
    "    while i < len(tile):\n",
    "        if tile[i] in dirs:\n",
    "            dir = dirs[tile[i]]\n",
    "            i += 1\n",
    "        else:\n",
    "            dir = dirs[tile[i : i + 2]]\n",
    "            i += 2\n",
    "        pos = tuple(map(add, pos, dir))\n",
    "    return pos"
   ]
  },
  {
   "cell_type": "code",
   "execution_count": 287,
   "metadata": {},
   "outputs": [
    {
     "name": "stdout",
     "output_type": "stream",
     "text": [
      "312\n"
     ]
    }
   ],
   "source": [
    "world = defaultdict(lambda: False)\n",
    "for tile in tiles:\n",
    "    world[coordinates(tile)] = not world[coordinates(tile)]\n",
    "    \n",
    "print(sum(world.values()))"
   ]
  },
  {
   "cell_type": "code",
   "execution_count": 288,
   "metadata": {},
   "outputs": [],
   "source": [
    "def count_neighbors(world, pos):    \n",
    "    return sum([world[tuple(map(add, pos, dir))] for dir in dirs.values()])\n",
    "\n",
    "\n",
    "def simulate(world):\n",
    "    \"\"\"Simulate one step\"\"\"\n",
    "    # Find all new tiles to consider\n",
    "    next_tiles = set()\n",
    "    for tile_pos in world.keys():\n",
    "        next_tiles.add(tile_pos)\n",
    "        for dir in dirs.values():\n",
    "            next_tiles.add(tuple(map(add, tile_pos, dir)))\n",
    "\n",
    "    new_world = world.copy()\n",
    "    for pos in next_tiles:\n",
    "        count = count_neighbors(world, pos)\n",
    "        if world[pos]:  # black tile\n",
    "            if count == 0 or count > 2:\n",
    "                new_world[pos] = False\n",
    "        else:  # white tile\n",
    "            if count == 2:\n",
    "                new_world[pos] = True\n",
    "    return new_world\n"
   ]
  },
  {
   "cell_type": "code",
   "execution_count": 290,
   "metadata": {},
   "outputs": [
    {
     "name": "stdout",
     "output_type": "stream",
     "text": [
      "11678\n"
     ]
    }
   ],
   "source": [
    "for _ in range(100):\n",
    "    new_world = simulate(world)\n",
    "    world = new_world\n",
    "print(sum(world.values()))"
   ]
  }
 ],
 "metadata": {
  "kernelspec": {
   "display_name": "Python 3",
   "language": "python",
   "name": "python3"
  },
  "language_info": {
   "codemirror_mode": {
    "name": "ipython",
    "version": 3
   },
   "file_extension": ".py",
   "mimetype": "text/x-python",
   "name": "python",
   "nbconvert_exporter": "python",
   "pygments_lexer": "ipython3",
   "version": "3.8.3"
  }
 },
 "nbformat": 4,
 "nbformat_minor": 4
}
