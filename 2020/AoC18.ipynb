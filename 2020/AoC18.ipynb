{
 "cells": [
  {
   "cell_type": "code",
   "execution_count": 1,
   "metadata": {},
   "outputs": [],
   "source": [
    "import re\n",
    "from functools import partial\n",
    "from operator import mul, add\n",
    "from collections import deque"
   ]
  },
  {
   "cell_type": "code",
   "execution_count": 2,
   "metadata": {},
   "outputs": [],
   "source": [
    "with open(\"inputs/aoc18\", \"r\") as f:\n",
    "    seq = f.read().splitlines()"
   ]
  },
  {
   "cell_type": "markdown",
   "metadata": {},
   "source": [
    "The core idea to solve Task 1 and 2 with the same code are the `reduce_keys`.\n",
    "They define when the stack is reduced, where reducing going through the stack and applying the operators without precedence. In Task 1, we can reduce at every operator in Task 2 only at `*` and `)`.\n",
    "\n",
    "\n",
    "Example for Task 2 with the expression `1 * 2 * 5 + 5`:When the parser is at the second `*` it's safe to reduce the rest of the stack: `2 * 5 + 5`"
   ]
  },
  {
   "cell_type": "code",
   "execution_count": 3,
   "metadata": {},
   "outputs": [],
   "source": [
    "def evaluate(expr, reduce_keys=None):\n",
    "    stack = deque()\n",
    "    for token in re.findall(r\"[\\(\\)\\d+\\*]\", expr):\n",
    "        if token == \")\":\n",
    "            stack = reduce(stack, keep_bracket=False)\n",
    "            continue\n",
    "        elif token in reduce_keys:\n",
    "            stack = reduce(stack, keep_bracket=True)\n",
    "        stack.append(token)\n",
    "    return int(reduce(stack, keep_bracket=False).pop())\n",
    "            \n",
    "def reduce(stack, keep_bracket):\n",
    "    \"\"\"Reduce until stack is empty or `(`, no operator precedence\"\"\"\n",
    "    ret = partial(add, 0)\n",
    "    while stack:\n",
    "        el = stack.pop()\n",
    "        if el == \"(\":\n",
    "            break\n",
    "        elif el.isnumeric():\n",
    "            ret = ret(int(el))\n",
    "        elif el == \"+\":\n",
    "            ret = partial(add, ret)\n",
    "        elif el == \"*\":\n",
    "            ret = partial(mul, ret)\n",
    "    \n",
    "    if keep_bracket:\n",
    "        stack.append(\"(\")\n",
    "    stack.append(str(ret))\n",
    "    return stack"
   ]
  },
  {
   "cell_type": "code",
   "execution_count": 4,
   "metadata": {},
   "outputs": [
    {
     "data": {
      "text/plain": [
       "4940631886147"
      ]
     },
     "execution_count": 4,
     "metadata": {},
     "output_type": "execute_result"
    }
   ],
   "source": [
    "sum(map(lambda expr: evaluate(expr, reduce_keys=[\"*\", \"+\"]), seq))"
   ]
  },
  {
   "cell_type": "code",
   "execution_count": 5,
   "metadata": {},
   "outputs": [
    {
     "data": {
      "text/plain": [
       "283582817678281"
      ]
     },
     "execution_count": 5,
     "metadata": {},
     "output_type": "execute_result"
    }
   ],
   "source": [
    "sum(map(lambda expr: evaluate(expr, reduce_keys=[\"*\"]), seq))"
   ]
  }
 ],
 "metadata": {
  "kernelspec": {
   "display_name": "Python 3",
   "language": "python",
   "name": "python3"
  },
  "language_info": {
   "codemirror_mode": {
    "name": "ipython",
    "version": 3
   },
   "file_extension": ".py",
   "mimetype": "text/x-python",
   "name": "python",
   "nbconvert_exporter": "python",
   "pygments_lexer": "ipython3",
   "version": "3.8.3"
  }
 },
 "nbformat": 4,
 "nbformat_minor": 4
}
