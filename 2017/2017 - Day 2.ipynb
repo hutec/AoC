{
 "cells": [
  {
   "cell_type": "code",
   "execution_count": 1,
   "metadata": {},
   "outputs": [],
   "source": [
    "f = open(\"input/input_day2\")\n",
    "input_sequence = f.read().splitlines()\n",
    "spreadsheet = []\n",
    "for row in input_sequence:\n",
    "    spreadsheet.append(list(map(int, row.split(\"\\t\"))))"
   ]
  },
  {
   "cell_type": "code",
   "execution_count": 2,
   "metadata": {},
   "outputs": [],
   "source": [
    "def calculate_checksum(spreadsheet):\n",
    "    row_differences = []\n",
    "    for row in spreadsheet:\n",
    "        row_differences.append(max(row) - min(row))\n",
    "    return sum(row_differences)"
   ]
  },
  {
   "cell_type": "code",
   "execution_count": 3,
   "metadata": {},
   "outputs": [],
   "source": [
    "test_spreadsheet = [[5, 1, 9, 5],\n",
    "                    [7, 5, 3, ],\n",
    "                    [2, 4, 6, 8]]\n",
    "assert calculate_checksum(test_spreadsheet) == 18"
   ]
  },
  {
   "cell_type": "code",
   "execution_count": 4,
   "metadata": {},
   "outputs": [
    {
     "data": {
      "text/plain": [
       "47623"
      ]
     },
     "execution_count": 4,
     "metadata": {},
     "output_type": "execute_result"
    }
   ],
   "source": [
    "calculate_checksum(spreadsheet)"
   ]
  },
  {
   "cell_type": "markdown",
   "metadata": {},
   "source": [
    "# Part 2"
   ]
  },
  {
   "cell_type": "code",
   "execution_count": 5,
   "metadata": {},
   "outputs": [],
   "source": [
    "def tests_part2():\n",
    "    assert row_checksum([5, 9, 2, 8]) == 4\n",
    "    assert row_checksum([9, 4, 7, 3]) == 3\n",
    "    assert row_checksum([3, 8, 6, 5]) == 2"
   ]
  },
  {
   "cell_type": "code",
   "execution_count": 6,
   "metadata": {},
   "outputs": [],
   "source": [
    "def row_checksum(row):\n",
    "    for first_element in row:\n",
    "        for second_element in row:\n",
    "            if first_element == second_element:\n",
    "                pass\n",
    "            else:\n",
    "                if max(first_element, second_element) % min(first_element, second_element) == 0:\n",
    "                    return max(first_element, second_element) // min(first_element, second_element)"
   ]
  },
  {
   "cell_type": "code",
   "execution_count": 7,
   "metadata": {},
   "outputs": [],
   "source": [
    "tests_part2()"
   ]
  },
  {
   "cell_type": "code",
   "execution_count": 8,
   "metadata": {},
   "outputs": [
    {
     "data": {
      "text/plain": [
       "312"
      ]
     },
     "execution_count": 8,
     "metadata": {},
     "output_type": "execute_result"
    }
   ],
   "source": [
    "sum(map(row_checksum, spreadsheet))"
   ]
  }
 ],
 "metadata": {
  "kernelspec": {
   "display_name": "Python 3",
   "language": "python",
   "name": "python3"
  },
  "language_info": {
   "codemirror_mode": {
    "name": "ipython",
    "version": 3
   },
   "file_extension": ".py",
   "mimetype": "text/x-python",
   "name": "python",
   "nbconvert_exporter": "python",
   "pygments_lexer": "ipython3",
   "version": "3.4.3"
  }
 },
 "nbformat": 4,
 "nbformat_minor": 2
}
