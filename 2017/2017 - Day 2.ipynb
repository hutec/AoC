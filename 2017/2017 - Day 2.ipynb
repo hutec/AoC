{
 "cells": [
  {
   "cell_type": "code",
   "execution_count": 45,
   "metadata": {},
   "outputs": [],
   "source": [
    "f = open(\"input/input_day2\")\n",
    "input_sequence = f.read().splitlines()\n",
    "spreadsheet = []\n",
    "for row in input_sequence:\n",
    "    spreadsheet.append(list(map(int, row.split(\"\\t\"))))"
   ]
  },
  {
   "cell_type": "code",
   "execution_count": 46,
   "metadata": {},
   "outputs": [],
   "source": [
    "def calculate_checksum(spreadsheet):\n",
    "    row_differences = []\n",
    "    for row in spreadsheet:\n",
    "        row_differences.append(max(row) - min(row))\n",
    "    return sum(row_differences)"
   ]
  },
  {
   "cell_type": "code",
   "execution_count": 47,
   "metadata": {},
   "outputs": [],
   "source": [
    "test_spreadsheet = [[5, 1, 9, 5],\n",
    "                    [7, 5, 3, ],\n",
    "                    [2, 4, 6, 8]]\n",
    "assert calculate_checksum(test_spreadsheet) == 18"
   ]
  },
  {
   "cell_type": "code",
   "execution_count": 48,
   "metadata": {},
   "outputs": [
    {
     "data": {
      "text/plain": [
       "47623"
      ]
     },
     "execution_count": 48,
     "metadata": {},
     "output_type": "execute_result"
    }
   ],
   "source": [
    "calculate_checksum(spreadsheet)"
   ]
  }
 ],
 "metadata": {
  "kernelspec": {
   "display_name": "Python 3",
   "language": "python",
   "name": "python3"
  },
  "language_info": {
   "codemirror_mode": {
    "name": "ipython",
    "version": 3
   },
   "file_extension": ".py",
   "mimetype": "text/x-python",
   "name": "python",
   "nbconvert_exporter": "python",
   "pygments_lexer": "ipython3",
   "version": "3.4.3"
  }
 },
 "nbformat": 4,
 "nbformat_minor": 2
}
