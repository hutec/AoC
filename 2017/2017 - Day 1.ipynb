{
 "cells": [
  {
   "cell_type": "code",
   "execution_count": 5,
   "metadata": {},
   "outputs": [],
   "source": [
    "f = open(\"input/input_day1\")\n",
    "input_sequence = f.read().splitlines()[0]"
   ]
  },
  {
   "cell_type": "code",
   "execution_count": 6,
   "metadata": {},
   "outputs": [],
   "source": [
    "def tests():\n",
    "    assert inverse_captcha(\"1122\") == 3\n",
    "    assert inverse_captcha(\"1111\") == 4\n",
    "    assert inverse_captcha(\"1234\") == 0\n",
    "    assert inverse_captcha(\"91212129\") == 9"
   ]
  },
  {
   "cell_type": "code",
   "execution_count": 7,
   "metadata": {},
   "outputs": [
    {
     "data": {
      "text/plain": [
       "1069"
      ]
     },
     "execution_count": 7,
     "metadata": {},
     "output_type": "execute_result"
    }
   ],
   "source": [
    "def inverse_captcha(seq):\n",
    "    reduced_seq = []\n",
    "    for i, char in enumerate(seq):\n",
    "        if char == seq[i - 1]:\n",
    "            reduced_seq.append(int(char))\n",
    "    return sum(reduced_seq)\n",
    "\n",
    "tests()\n",
    "inverse_captcha(input_sequence)"
   ]
  }
 ],
 "metadata": {
  "kernelspec": {
   "display_name": "Python 3",
   "language": "python",
   "name": "python3"
  },
  "language_info": {
   "codemirror_mode": {
    "name": "ipython",
    "version": 3
   },
   "file_extension": ".py",
   "mimetype": "text/x-python",
   "name": "python",
   "nbconvert_exporter": "python",
   "pygments_lexer": "ipython3",
   "version": "3.4.3"
  }
 },
 "nbformat": 4,
 "nbformat_minor": 1
}
