{
 "cells": [
  {
   "cell_type": "markdown",
   "metadata": {},
   "source": [
    "# Part 1"
   ]
  },
  {
   "cell_type": "code",
   "execution_count": 51,
   "metadata": {},
   "outputs": [],
   "source": [
    "f = open(\"input/input_day7\")\n",
    "input_programs = f.read().splitlines()\n",
    "# key: disc, value: parent-dist\n",
    "parents = dict()\n",
    "names = []\n",
    "for row in input_programs:\n",
    "    name, weight = row.split(\"->\")[0].split(\" \")[0:2]\n",
    "    names.append(name)\n",
    "    if len(row.split(\"->\")) > 1:\n",
    "        dependencies = row.split(\"->\")[1].split(\",\")\n",
    "        for d in dependencies:\n",
    "            parents[d.strip()] = name"
   ]
  },
  {
   "cell_type": "code",
   "execution_count": 54,
   "metadata": {},
   "outputs": [
    {
     "data": {
      "text/plain": [
       "{'dtacyn'}"
      ]
     },
     "execution_count": 54,
     "metadata": {},
     "output_type": "execute_result"
    }
   ],
   "source": [
    "set(names) - set(parents.keys())"
   ]
  }
 ],
 "metadata": {
  "kernelspec": {
   "display_name": "Python 3",
   "language": "python",
   "name": "python3"
  },
  "language_info": {
   "codemirror_mode": {
    "name": "ipython",
    "version": 3
   },
   "file_extension": ".py",
   "mimetype": "text/x-python",
   "name": "python",
   "nbconvert_exporter": "python",
   "pygments_lexer": "ipython3",
   "version": "3.4.3"
  }
 },
 "nbformat": 4,
 "nbformat_minor": 2
}
