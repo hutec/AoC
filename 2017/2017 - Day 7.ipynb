{
 "cells": [
  {
   "cell_type": "code",
   "execution_count": 1,
   "metadata": {},
   "outputs": [],
   "source": [
    "import numpy as np"
   ]
  },
  {
   "cell_type": "markdown",
   "metadata": {},
   "source": [
    "# Part 1"
   ]
  },
  {
   "cell_type": "code",
   "execution_count": 2,
   "metadata": {},
   "outputs": [],
   "source": [
    "f = open(\"input/input_day7\")\n",
    "input_programs = f.read().splitlines()\n",
    "# key: disc, value: parent-dist\n",
    "parents = dict()\n",
    "names = []\n",
    "for row in input_programs:\n",
    "    name, weight = row.split(\"->\")[0].split(\" \")[0:2]\n",
    "    names.append(name)\n",
    "    if len(row.split(\"->\")) > 1:\n",
    "        dependencies = row.split(\"->\")[1].split(\",\")\n",
    "        for d in dependencies:\n",
    "            parents[d.strip()] = name"
   ]
  },
  {
   "cell_type": "code",
   "execution_count": 3,
   "metadata": {},
   "outputs": [
    {
     "data": {
      "text/plain": [
       "{'dtacyn'}"
      ]
     },
     "execution_count": 3,
     "metadata": {},
     "output_type": "execute_result"
    }
   ],
   "source": [
    "set(names) - set(parents.keys())"
   ]
  },
  {
   "cell_type": "markdown",
   "metadata": {},
   "source": [
    "# Part 2"
   ]
  },
  {
   "cell_type": "code",
   "execution_count": 4,
   "metadata": {},
   "outputs": [],
   "source": [
    "f = open(\"input/input_day7\")\n",
    "input_programs = f.read().splitlines()\n",
    "# key: disc, value: parent-dist\n",
    "children = dict()\n",
    "names = []\n",
    "for row in input_programs:\n",
    "    name, weight = row.split(\"->\")[0].split(\" \")[0:2]\n",
    "    names.append(name)\n",
    "    if len(row.split(\"->\")) > 1:\n",
    "        dependencies = row.split(\"->\")[1].split(\",\")\n",
    "        children[name] = {\"children\": [d.strip() for d in dependencies],\n",
    "                              \"weight\": int(weight.strip(\"()\"))}\n",
    "    else:\n",
    "        children[name] = {\"weight\": int(weight.strip(\"()\"))}"
   ]
  },
  {
   "cell_type": "code",
   "execution_count": 5,
   "metadata": {},
   "outputs": [],
   "source": [
    "def get_children(name):\n",
    "    try:\n",
    "        return children[name][\"children\"]\n",
    "    except:\n",
    "        return None\n",
    "\n",
    "def get_weight(name):\n",
    "    return children[name][\"weight\"]\n",
    "\n",
    "def get_recursive_weight(name):\n",
    "    if get_children(name) is not None:\n",
    "        s = get_weight(name)\n",
    "        child_weights = []\n",
    "        for child in get_children(name):\n",
    "            child_weights.append(get_recursive_weight(child))\n",
    "        if np.var(child_weights) != 0:\n",
    "            print(get_children(name))\n",
    "            print(child_weights)\n",
    "        return s + sum(child_weights)\n",
    "    else:\n",
    "        return get_weight(name)"
   ]
  },
  {
   "cell_type": "code",
   "execution_count": 6,
   "metadata": {},
   "outputs": [
    {
     "name": "stdout",
     "output_type": "stream",
     "text": [
      "['ptshtrn', 'mxgpbvf', 'cfqdsb', 'yfejqb']\n",
      "[1122, 1117, 1117, 1117]\n",
      "['nieyygi', 'hmcjz', 'ceizm']\n",
      "[11781, 11776, 11776]\n",
      "['xvuxc', 'eyyrn', 'udtsgjk', 'zprkrrn', 'rhhdc', 'rtdpm']\n",
      "[74497, 74492, 74492, 74492, 74492, 74492]\n"
     ]
    },
    {
     "data": {
      "text/plain": [
       "446999"
      ]
     },
     "execution_count": 6,
     "metadata": {},
     "output_type": "execute_result"
    }
   ],
   "source": [
    "get_recursive_weight(\"dtacyn\")"
   ]
  },
  {
   "cell_type": "code",
   "execution_count": 7,
   "metadata": {},
   "outputs": [
    {
     "data": {
      "text/plain": [
       "521"
      ]
     },
     "execution_count": 7,
     "metadata": {},
     "output_type": "execute_result"
    }
   ],
   "source": [
    "get_weight(\"ptshtrn\") - 5"
   ]
  }
 ],
 "metadata": {
  "kernelspec": {
   "display_name": "Python 3",
   "language": "python",
   "name": "python3"
  },
  "language_info": {
   "codemirror_mode": {
    "name": "ipython",
    "version": 3
   },
   "file_extension": ".py",
   "mimetype": "text/x-python",
   "name": "python",
   "nbconvert_exporter": "python",
   "pygments_lexer": "ipython3",
   "version": "3.4.3"
  }
 },
 "nbformat": 4,
 "nbformat_minor": 2
}
