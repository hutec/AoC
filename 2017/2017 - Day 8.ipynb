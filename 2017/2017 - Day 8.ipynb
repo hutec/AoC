{
 "cells": [
  {
   "cell_type": "markdown",
   "metadata": {},
   "source": [
    "# Part 1"
   ]
  },
  {
   "cell_type": "code",
   "execution_count": 118,
   "metadata": {},
   "outputs": [],
   "source": [
    "f = open(\"input/input_day8\")\n",
    "input_programs = f.read().splitlines()\n",
    "\n",
    "all_registers = set()\n",
    "program = []\n",
    "\n",
    "def get_op(ops):\n",
    "    if ops[0] == \"inc\":\n",
    "        return lambda x: x + int(ops[1])\n",
    "    if ops[0] == \"dec\":\n",
    "        return lambda x: x - int(ops[1])\n",
    "    \n",
    "for row in input_programs:\n",
    "    row_parts = row.split(\" \")\n",
    "    register = row_parts[0]\n",
    "    operation = get_op(row_parts[1:3])\n",
    "    condition = row_parts[-3:]\n",
    "    all_registers.add(register)\n",
    "    program.append({\n",
    "        \"register\": register,\n",
    "        \"operation\": operation,\n",
    "        \"condition\": condition\n",
    "    })\n",
    "\n",
    "\n",
    "register_mapping = dict(zip(list(all_registers), range(len(all_registers))))\n",
    "registers = [0] * len(all_registers)"
   ]
  },
  {
   "cell_type": "code",
   "execution_count": 119,
   "metadata": {},
   "outputs": [],
   "source": [
    "def run_op(op):\n",
    "    if eval(str(registers[register_mapping[op[\"condition\"][0]]]) + \" \" + \" \".join(op[\"condition\"][1: ])):\n",
    "        registers[register_mapping[op[\"register\"]]] = op[\"operation\"](registers[register_mapping[op[\"register\"]]])\n",
    "    return max(registers)"
   ]
  },
  {
   "cell_type": "code",
   "execution_count": 120,
   "metadata": {},
   "outputs": [],
   "source": [
    "max_registers = []\n",
    "for op in program:\n",
    "    max_regisrun_op(op))"
   ]
  },
  {
   "cell_type": "code",
   "execution_count": 121,
   "metadata": {},
   "outputs": [
    {
     "data": {
      "text/plain": [
       "6828"
      ]
     },
     "execution_count": 121,
     "metadata": {},
     "output_type": "execute_result"
    }
   ],
   "source": [
    "max(registers)"
   ]
  },
  {
   "cell_type": "code",
   "execution_count": 122,
   "metadata": {},
   "outputs": [
    {
     "data": {
      "text/plain": [
       "0"
      ]
     },
     "execution_count": 122,
     "metadata": {},
     "output_type": "execute_result"
    }
   ],
   "source": [
    "max_register"
   ]
  }
 ],
 "metadata": {
  "kernelspec": {
   "display_name": "Python 3",
   "language": "python",
   "name": "python3"
  },
  "language_info": {
   "codemirror_mode": {
    "name": "ipython",
    "version": 3
   },
   "file_extension": ".py",
   "mimetype": "text/x-python",
   "name": "python",
   "nbconvert_exporter": "python",
   "pygments_lexer": "ipython3",
   "version": "3.4.3"
  }
 },
 "nbformat": 4,
 "nbformat_minor": 2
}
