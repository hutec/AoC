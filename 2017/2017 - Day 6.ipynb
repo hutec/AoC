{
 "cells": [
  {
   "cell_type": "code",
   "execution_count": 1,
   "metadata": {},
   "outputs": [],
   "source": [
    "import operator"
   ]
  },
  {
   "cell_type": "code",
   "execution_count": 2,
   "metadata": {},
   "outputs": [],
   "source": [
    "f = open(\"input/input_day6\")\n",
    "input_sequence = f.read().splitlines()\n",
    "input_banks = list(map(int, input_sequence[0].split(\"\\t\")))"
   ]
  },
  {
   "cell_type": "code",
   "execution_count": 3,
   "metadata": {},
   "outputs": [],
   "source": [
    "def redistribute(banks):\n",
    "    max_index, max_value = max(enumerate(banks), key=operator.itemgetter(1))\n",
    "    d, m = divmod(max_value, len(banks))\n",
    "    new_bank = [bank + d for bank in banks]\n",
    "    new_bank[max_index] -= max_value\n",
    "    for i in range(1, m+1):\n",
    "        new_bank[(max_index + i) % len(banks)] += 1\n",
    "    return new_bank\n",
    "\n",
    "def detect_infinite_loop(banks):\n",
    "    bank_history = [banks]\n",
    "    counter = 1\n",
    "    while redistribute(banks) not in bank_history:\n",
    "        banks = redistribute(banks)\n",
    "        bank_history.append(banks)\n",
    "        counter += 1     \n",
    "    return counter"
   ]
  },
  {
   "cell_type": "code",
   "execution_count": 4,
   "metadata": {},
   "outputs": [],
   "source": [
    "assert redistribute([0,2,7,0]) == [2,4,1,2]\n",
    "assert redistribute([2,4,1,2]) == [3,1,2,3]\n",
    "assert redistribute([3,1,2,3]) == [0,2,3,4]\n",
    "assert redistribute([0,2,3,4]) == [1,3,4,1]\n",
    "\n",
    "assert detect_infinite_loop([0,2,7,0]) == 5"
   ]
  },
  {
   "cell_type": "code",
   "execution_count": 5,
   "metadata": {},
   "outputs": [
    {
     "data": {
      "text/plain": [
       "5042"
      ]
     },
     "execution_count": 5,
     "metadata": {},
     "output_type": "execute_result"
    }
   ],
   "source": [
    "detect_infinite_loop(input_banks)"
   ]
  },
  {
   "cell_type": "markdown",
   "metadata": {},
   "source": [
    "# Part 2"
   ]
  },
  {
   "cell_type": "code",
   "execution_count": 6,
   "metadata": {},
   "outputs": [],
   "source": [
    "def detect_infinite_loop_with_last(banks):\n",
    "    bank_history = [banks]\n",
    "    counter = 1\n",
    "    while redistribute(banks) not in bank_history:\n",
    "        banks = redistribute(banks)\n",
    "        bank_history.append(banks)\n",
    "        counter += 1     \n",
    "    return redistribute(banks), counter"
   ]
  },
  {
   "cell_type": "code",
   "execution_count": 7,
   "metadata": {},
   "outputs": [
    {
     "data": {
      "text/plain": [
       "1086"
      ]
     },
     "execution_count": 7,
     "metadata": {},
     "output_type": "execute_result"
    }
   ],
   "source": [
    "detect_infinite_loop(detect_infinite_loop_with_last(input_banks)[0])"
   ]
  }
 ],
 "metadata": {
  "kernelspec": {
   "display_name": "Python 3",
   "language": "python",
   "name": "python3"
  },
  "language_info": {
   "codemirror_mode": {
    "name": "ipython",
    "version": 3
   },
   "file_extension": ".py",
   "mimetype": "text/x-python",
   "name": "python",
   "nbconvert_exporter": "python",
   "pygments_lexer": "ipython3",
   "version": "3.4.3"
  }
 },
 "nbformat": 4,
 "nbformat_minor": 2
}
