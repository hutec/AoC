{
 "cells": [
  {
   "cell_type": "code",
   "execution_count": 1,
   "metadata": {},
   "outputs": [],
   "source": [
    "puzzle_input = 277678"
   ]
  },
  {
   "cell_type": "code",
   "execution_count": 2,
   "metadata": {},
   "outputs": [],
   "source": [
    "import itertools\n",
    "import math\n",
    "import operator"
   ]
  },
  {
   "cell_type": "markdown",
   "metadata": {},
   "source": [
    "- Right lower corner is a square number in with step $2$, e.g. $1, 3^2=9, 5^2=25, 7^2=49, 9^2=81$\n",
    "- left upper corner is always square number + 1, e.g, $2^2+1=5, 4^2+1=17, 6^2+1=37$"
   ]
  },
  {
   "cell_type": "code",
   "execution_count": 3,
   "metadata": {},
   "outputs": [],
   "source": [
    "def tests():\n",
    "    assert steps(1) == 0\n",
    "    assert steps(12) == 3\n",
    "    assert steps(23) == 2\n",
    "    assert steps(1024) == 31"
   ]
  },
  {
   "cell_type": "code",
   "execution_count": 6,
   "metadata": {},
   "outputs": [],
   "source": [
    "def get_corners(size):\n",
    "    corners = sum([[x, x] for x in range(1,size)], [])\n",
    "    corners = [1] + corners\n",
    "    corners = list(itertools.accumulate(corners, operator.add))\n",
    "    return corners\n",
    "\n",
    "def steps(square):\n",
    "    corners = get_corners(2*round(math.sqrt(square)))\n",
    "    last_corner_idx, last_corner = next(x for x in enumerate(corners) if x[1] >= square)\n",
    "    d, m = divmod(last_corner_idx + 2, 4)\n",
    "    if m % 4 == 3:\n",
    "        return (2 * d + 1) - (last_corner - square)\n",
    "    else:\n",
    "        return 2 * d - (last_corner - square)    "
   ]
  },
  {
   "cell_type": "code",
   "execution_count": 7,
   "metadata": {},
   "outputs": [],
   "source": [
    "tests()"
   ]
  },
  {
   "cell_type": "code",
   "execution_count": 8,
   "metadata": {},
   "outputs": [
    {
     "data": {
      "text/plain": [
       "475"
      ]
     },
     "execution_count": 8,
     "metadata": {},
     "output_type": "execute_result"
    }
   ],
   "source": [
    "steps(puzzle_input)"
   ]
  }
 ],
 "metadata": {
  "kernelspec": {
   "display_name": "Python 3",
   "language": "python",
   "name": "python3"
  },
  "language_info": {
   "codemirror_mode": {
    "name": "ipython",
    "version": 3
   },
   "file_extension": ".py",
   "mimetype": "text/x-python",
   "name": "python",
   "nbconvert_exporter": "python",
   "pygments_lexer": "ipython3",
   "version": "3.4.3"
  }
 },
 "nbformat": 4,
 "nbformat_minor": 2
}
