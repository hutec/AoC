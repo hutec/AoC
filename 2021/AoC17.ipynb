{
 "cells": [
  {
   "cell_type": "code",
   "execution_count": 1,
   "metadata": {},
   "outputs": [],
   "source": [
    "import itertools"
   ]
  },
  {
   "cell_type": "code",
   "execution_count": 2,
   "metadata": {},
   "outputs": [],
   "source": [
    "target_x = [102, 157]\n",
    "target_y = [-146, -90]"
   ]
  },
  {
   "cell_type": "code",
   "execution_count": 3,
   "metadata": {},
   "outputs": [],
   "source": [
    "def change_towards_0(x):\n",
    "    if x == 0:\n",
    "        return 0\n",
    "    elif x > 0:\n",
    "        return x - 1\n",
    "    elif x < 0:\n",
    "        return x + 1\n",
    "    \n",
    "def move(position, velocity):\n",
    "    new_position = position[0] + velocity[0], position[1] + velocity[1]\n",
    "    new_velocity = change_towards_0(velocity[0]), velocity[1] - 1\n",
    "    return new_position, new_velocity\n",
    "\n",
    "def is_in_area(position):\n",
    "    x, y = position\n",
    "    return target_x[0] <= x <= target_x[1] and target_y[0] <= y <= target_y[1]\n",
    "\n",
    "def is_beyond_area(position):\n",
    "    x, y = position\n",
    "    return x > max(target_x) or y < min(target_y)\n",
    "\n",
    "\n",
    "def simulate(position, velocity):\n",
    "    max_height = position[1]\n",
    "    while not is_beyond_area(position):\n",
    "        position, velocity = move(position, velocity)\n",
    "        max_height = max(max_height, position[1])\n",
    "        if is_in_area(position):\n",
    "            return max_height\n",
    "        \n",
    "    return None"
   ]
  },
  {
   "cell_type": "code",
   "execution_count": 4,
   "metadata": {},
   "outputs": [
    {
     "name": "stdout",
     "output_type": "stream",
     "text": [
      "10585\n"
     ]
    }
   ],
   "source": [
    "max_height = None\n",
    "valid = set()\n",
    "for velocity in itertools.product(range(300), range(-600, 600)):\n",
    "    height = simulate((0, 0), velocity)\n",
    "    if height is not None:\n",
    "        max_height = max(max_height, height) if max_height else height\n",
    "        valid.add(velocity)\n",
    "print(max_height)"
   ]
  },
  {
   "cell_type": "code",
   "execution_count": 5,
   "metadata": {},
   "outputs": [
    {
     "data": {
      "text/plain": [
       "5247"
      ]
     },
     "execution_count": 5,
     "metadata": {},
     "output_type": "execute_result"
    }
   ],
   "source": [
    "len(valid)"
   ]
  }
 ],
 "metadata": {
  "kernelspec": {
   "display_name": "Python 3",
   "language": "python",
   "name": "python3"
  },
  "language_info": {
   "codemirror_mode": {
    "name": "ipython",
    "version": 3
   },
   "file_extension": ".py",
   "mimetype": "text/x-python",
   "name": "python",
   "nbconvert_exporter": "python",
   "pygments_lexer": "ipython3",
   "version": "3.8.3"
  }
 },
 "nbformat": 4,
 "nbformat_minor": 4
}
