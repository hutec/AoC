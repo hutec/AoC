{
 "cells": [
  {
   "cell_type": "code",
   "execution_count": 1,
   "metadata": {},
   "outputs": [],
   "source": [
    "with open(\"inputs/10\", \"r\") as f:\n",
    "    lines = f.read().splitlines()\n",
    "\n",
    "points = {\n",
    "    \")\": 3,\n",
    "    \"]\": 57,\n",
    "    \"}\": 1197,\n",
    "    \">\": 25137\n",
    "}\n",
    "\n",
    "closing_points = {\n",
    "    \")\": 1,\n",
    "    \"]\": 2,\n",
    "    \"}\": 3,\n",
    "    \">\": 4,\n",
    "}\n",
    "\n",
    "matching_brackets = {\n",
    "    \"(\": \")\",\n",
    "    \"[\": \"]\",\n",
    "    \"{\": \"}\",\n",
    "    \"<\": \">\",\n",
    "}\n",
    "\n",
    "closing_brackets = \")]}>\"\n",
    "opening_brackets = \"([{<\""
   ]
  },
  {
   "cell_type": "code",
   "execution_count": 2,
   "metadata": {},
   "outputs": [
    {
     "name": "stdout",
     "output_type": "stream",
     "text": [
      "394647\n"
     ]
    },
    {
     "data": {
      "text/plain": [
       "2380061249"
      ]
     },
     "execution_count": 2,
     "metadata": {},
     "output_type": "execute_result"
    }
   ],
   "source": [
    "syntax_error_score = 0\n",
    "total_scores = []\n",
    "for line in lines:\n",
    "    stack = []\n",
    "    corrupt = False\n",
    "    for bracket in line:\n",
    "        if bracket in opening_brackets:\n",
    "            stack.append(bracket)\n",
    "        elif bracket in closing_brackets:\n",
    "            if matching_brackets[stack[-1]] == bracket:\n",
    "                stack.pop()\n",
    "            else:\n",
    "                corrupt = True\n",
    "                syntax_error_score += points[bracket]\n",
    "                break\n",
    "    \n",
    "    if not corrupt:\n",
    "        score = 0\n",
    "        for bracket in stack[::-1]:\n",
    "            score = score * 5 + closing_points[matching_brackets[bracket]]\n",
    "        \n",
    "        total_scores.append(score)        \n",
    "\n",
    "print(syntax_error_score)\n",
    "sorted(total_scores)[len(total_scores) // 2]"
   ]
  }
 ],
 "metadata": {
  "kernelspec": {
   "display_name": "Python 3",
   "language": "python",
   "name": "python3"
  },
  "language_info": {
   "codemirror_mode": {
    "name": "ipython",
    "version": 3
   },
   "file_extension": ".py",
   "mimetype": "text/x-python",
   "name": "python",
   "nbconvert_exporter": "python",
   "pygments_lexer": "ipython3",
   "version": "3.8.3"
  }
 },
 "nbformat": 4,
 "nbformat_minor": 4
}
