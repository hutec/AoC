{
 "cells": [
  {
   "cell_type": "code",
   "execution_count": 1,
   "metadata": {},
   "outputs": [],
   "source": [
    "from collections import defaultdict"
   ]
  },
  {
   "cell_type": "code",
   "execution_count": 2,
   "metadata": {},
   "outputs": [],
   "source": [
    "with open(\"inputs/12\", \"r\") as f:\n",
    "    lines = f.read().splitlines()\n",
    "    \n",
    "c = defaultdict(set)\n",
    "\n",
    "for line in lines:\n",
    "    a, b = line.split(\"-\")\n",
    "    c[a].add(b)\n",
    "    c[b].add(a)\n",
    "\n",
    "def is_small_cave(cave_name):\n",
    "    return cave_name.lower() == cave_name"
   ]
  },
  {
   "cell_type": "code",
   "execution_count": 3,
   "metadata": {},
   "outputs": [
    {
     "data": {
      "text/plain": [
       "4970"
      ]
     },
     "execution_count": 3,
     "metadata": {},
     "output_type": "execute_result"
    }
   ],
   "source": [
    "paths = []\n",
    "def walk(path):\n",
    "    node = path[-1]\n",
    "    if node == \"end\":\n",
    "        paths.append(path)\n",
    "    \n",
    "    for cave in c[node]:\n",
    "        if is_small_cave(cave):\n",
    "            if cave not in path:\n",
    "                walk(path + [cave])\n",
    "        else:\n",
    "            walk(path + [cave])\n",
    "\n",
    "walk([\"start\"])\n",
    "len(paths)"
   ]
  },
  {
   "cell_type": "code",
   "execution_count": 4,
   "metadata": {},
   "outputs": [
    {
     "data": {
      "text/plain": [
       "137948"
      ]
     },
     "execution_count": 4,
     "metadata": {},
     "output_type": "execute_result"
    }
   ],
   "source": [
    "def can_add_small_cave(path):\n",
    "    small_caves = list(filter(is_small_cave, path))\n",
    "    return len(set(small_caves)) == len(small_caves)\n",
    "    \n",
    "paths = []\n",
    "def walk(path):\n",
    "    node = path[-1]\n",
    "    if node == \"end\":\n",
    "        paths.append(path)\n",
    "        return\n",
    "     \n",
    "    for cave in c[node]:\n",
    "        if cave == \"start\":\n",
    "            continue \n",
    "            \n",
    "        if is_small_cave(cave):\n",
    "            if cave not in path or can_add_small_cave(path):\n",
    "                walk(path + [cave])\n",
    "        else:\n",
    "            walk(path + [cave])\n",
    "\n",
    "walk([\"start\"])\n",
    "len(paths)"
   ]
  }
 ],
 "metadata": {
  "kernelspec": {
   "display_name": "Python 3",
   "language": "python",
   "name": "python3"
  },
  "language_info": {
   "codemirror_mode": {
    "name": "ipython",
    "version": 3
   },
   "file_extension": ".py",
   "mimetype": "text/x-python",
   "name": "python",
   "nbconvert_exporter": "python",
   "pygments_lexer": "ipython3",
   "version": "3.8.3"
  }
 },
 "nbformat": 4,
 "nbformat_minor": 4
}
