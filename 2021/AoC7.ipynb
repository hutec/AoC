{
 "cells": [
  {
   "cell_type": "code",
   "execution_count": 1,
   "metadata": {},
   "outputs": [],
   "source": [
    "with open(\"inputs/7\", \"r\") as f:\n",
    "    positions = list(map(int, f.read().split(\",\")))"
   ]
  },
  {
   "cell_type": "code",
   "execution_count": 2,
   "metadata": {},
   "outputs": [],
   "source": [
    "best_pos = None\n",
    "best_fuel = None\n",
    "for position_to_check in range(max(positions)):\n",
    "    fuel = sum([abs(position_to_check - p) for p in positions])\n",
    "    if best_pos is None or fuel < best_fuel:\n",
    "        best_pos = position_to_check\n",
    "        best_fuel = fuel"
   ]
  },
  {
   "cell_type": "code",
   "execution_count": 3,
   "metadata": {},
   "outputs": [
    {
     "data": {
      "text/plain": [
       "345197"
      ]
     },
     "execution_count": 3,
     "metadata": {},
     "output_type": "execute_result"
    }
   ],
   "source": [
    "best_fuel"
   ]
  },
  {
   "cell_type": "code",
   "execution_count": 4,
   "metadata": {},
   "outputs": [],
   "source": [
    "fuel_costs = {}\n",
    "for move in range(0, max(positions) + 1):\n",
    "    fuel_costs[move] = sum(range(move+1))"
   ]
  },
  {
   "cell_type": "code",
   "execution_count": 5,
   "metadata": {},
   "outputs": [],
   "source": [
    "best_pos = None\n",
    "best_fuel = None\n",
    "for position_to_check in range(max(positions)):\n",
    "    fuel = sum([fuel_costs[abs(position_to_check - p)] for p in positions])\n",
    "    if best_pos is None or fuel < best_fuel:\n",
    "        best_pos = position_to_check\n",
    "        best_fuel = fuel"
   ]
  },
  {
   "cell_type": "code",
   "execution_count": 6,
   "metadata": {},
   "outputs": [
    {
     "data": {
      "text/plain": [
       "96361606"
      ]
     },
     "execution_count": 6,
     "metadata": {},
     "output_type": "execute_result"
    }
   ],
   "source": [
    "best_fuel"
   ]
  }
 ],
 "metadata": {
  "kernelspec": {
   "display_name": "Python 3",
   "language": "python",
   "name": "python3"
  },
  "language_info": {
   "codemirror_mode": {
    "name": "ipython",
    "version": 3
   },
   "file_extension": ".py",
   "mimetype": "text/x-python",
   "name": "python",
   "nbconvert_exporter": "python",
   "pygments_lexer": "ipython3",
   "version": "3.8.3"
  }
 },
 "nbformat": 4,
 "nbformat_minor": 4
}
