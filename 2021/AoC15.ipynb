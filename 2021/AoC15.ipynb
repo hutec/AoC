{
 "cells": [
  {
   "cell_type": "code",
   "execution_count": 1,
   "metadata": {},
   "outputs": [],
   "source": [
    "import numpy as np\n",
    "import heapq"
   ]
  },
  {
   "cell_type": "code",
   "execution_count": 2,
   "metadata": {},
   "outputs": [],
   "source": [
    "def total_risk(costs):\n",
    "    \n",
    "    ymax = len(costs) - 1\n",
    "    xmax = len(costs[0]) - 1\n",
    "\n",
    "    directions = [(-1, 0), (0, -1), (1, 0), (0, 1)]\n",
    "    def get_neighbors(y, x):\n",
    "        for dx, dy in directions:\n",
    "            xx = x + dx\n",
    "            yy = y + dy\n",
    "\n",
    "\n",
    "            if xx >= 0 and yy >= 0 and xx <= xmax and yy <= ymax:\n",
    "                yield (yy, xx)\n",
    "\n",
    "\n",
    "    frontier = []\n",
    "    heapq.heappush(frontier, (0, (0,0)))\n",
    "    came_from = dict()\n",
    "    cost_so_far = dict()\n",
    "    came_from[(0,0)] = None\n",
    "    cost_so_far[(0,0)] = 0\n",
    "\n",
    "    while len(frontier) != 0:\n",
    "        _, current = heapq.heappop(frontier)\n",
    "\n",
    "        if current == (xmax, ymax):\n",
    "            print(cost_so_far[(xmax, ymax)])\n",
    "            break\n",
    "\n",
    "        for neighbor in get_neighbors(*current):\n",
    "            new_cost = cost_so_far[current] + costs[neighbor[0]][neighbor[1]]\n",
    "            if neighbor not in cost_so_far or new_cost < cost_so_far[neighbor]:\n",
    "                cost_so_far[neighbor] = new_cost\n",
    "                priotiy = new_cost\n",
    "                heapq.heappush(frontier, (new_cost, neighbor))\n",
    "                came_from[neighbor] = current"
   ]
  },
  {
   "cell_type": "code",
   "execution_count": 3,
   "metadata": {},
   "outputs": [],
   "source": [
    "with open(\"inputs/15\", \"r\") as f:\n",
    "    lines = f.read().splitlines()\n",
    "\n",
    "costs = []\n",
    "for line in lines:\n",
    "    costs.append(list(map(int, line)))\n",
    "    \n",
    "\n",
    "def inc_map(m, n):\n",
    "    if n == 0:\n",
    "        return m\n",
    "    \n",
    "    m += 1\n",
    "    m[m==10] = 1\n",
    "    return inc_map(m, n-1)\n",
    " \n",
    "maps = {i: inc_map(np.array(costs), i) for i in range(9)}\n",
    "rows = []\n",
    "for row in range(5):\n",
    "    rows.append(np.hstack([maps[row+col] for col in range(5)]))\n",
    "\n",
    "big_costs = np.vstack(rows).tolist()\n"
   ]
  },
  {
   "cell_type": "code",
   "execution_count": 4,
   "metadata": {},
   "outputs": [
    {
     "name": "stdout",
     "output_type": "stream",
     "text": [
      "429\n"
     ]
    }
   ],
   "source": [
    "total_risk(costs)"
   ]
  },
  {
   "cell_type": "code",
   "execution_count": 5,
   "metadata": {},
   "outputs": [
    {
     "name": "stdout",
     "output_type": "stream",
     "text": [
      "2844\n"
     ]
    }
   ],
   "source": [
    "total_risk(big_costs)"
   ]
  }
 ],
 "metadata": {
  "kernelspec": {
   "display_name": "Python 3",
   "language": "python",
   "name": "python3"
  },
  "language_info": {
   "codemirror_mode": {
    "name": "ipython",
    "version": 3
   },
   "file_extension": ".py",
   "mimetype": "text/x-python",
   "name": "python",
   "nbconvert_exporter": "python",
   "pygments_lexer": "ipython3",
   "version": "3.8.3"
  }
 },
 "nbformat": 4,
 "nbformat_minor": 4
}
