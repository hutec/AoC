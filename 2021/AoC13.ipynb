{
 "cells": [
  {
   "cell_type": "code",
   "execution_count": 1,
   "metadata": {},
   "outputs": [],
   "source": [
    "import re\n",
    "import numpy as np\n",
    "import matplotlib.pyplot as plt"
   ]
  },
  {
   "cell_type": "code",
   "execution_count": 2,
   "metadata": {},
   "outputs": [],
   "source": [
    "with open(\"inputs/13\", \"r\") as f:\n",
    "    lines = f.read().splitlines()\n",
    "\n",
    "p = re.compile(\"fold along (x|y)=(\\d+)\")\n",
    "points = []\n",
    "folds = []\n",
    "for line in lines:\n",
    "    if line == \"\":\n",
    "        continue\n",
    "    \n",
    "    if p.match(line):\n",
    "        axis, pos = p.match(line).groups()\n",
    "        pos = int(pos)\n",
    "        folds.append((axis, pos))\n",
    "    else:\n",
    "        points.append(tuple(map(int, line.split(\",\"))))\n",
    "        \n"
   ]
  },
  {
   "cell_type": "code",
   "execution_count": 3,
   "metadata": {},
   "outputs": [
    {
     "name": "stdout",
     "output_type": "stream",
     "text": [
      "689\n"
     ]
    }
   ],
   "source": [
    "max_y = max(points, key=lambda x: x[0])[0] + 1\n",
    "max_x = max(points, key=lambda x: x[1])[1] + 1\n",
    "\n",
    "g = np.zeros((max_x, max_y))\n",
    "for point in points:\n",
    "    g[point[::-1]] = 1\n",
    "\n",
    "for i, (axis, pos) in enumerate(folds):\n",
    "    if axis == \"y\":\n",
    "        lower = g[pos + 1:]\n",
    "        upper = g[:pos]\n",
    "        lower = np.flip(lower, axis=0)\n",
    "        g = np.logical_or(lower, upper)\n",
    "    if axis == \"x\":\n",
    "        right = g[:, pos +1:]\n",
    "        left = g[:, :pos]\n",
    "        right = np.flip(right, axis=1)\n",
    "        g = np.logical_or(right, left)\n",
    "        \n",
    "    if i == 0:\n",
    "        print(np.sum(g))\n",
    "        \n",
    "    "
   ]
  },
  {
   "cell_type": "code",
   "execution_count": 4,
   "metadata": {},
   "outputs": [
    {
     "data": {
      "text/plain": [
       "<matplotlib.image.AxesImage at 0x7f315c9e6d60>"
      ]
     },
     "execution_count": 4,
     "metadata": {},
     "output_type": "execute_result"
    },
    {
     "data": {
      "image/png": "[encoded data removed]",
      "text/plain": [
       "<Figure size 432x288 with 1 Axes>"
      ]
     },
     "metadata": {
      "needs_background": "light"
     },
     "output_type": "display_data"
    }
   ],
   "source": [
    "plt.imshow(g)"
   ]
  }
 ],
 "metadata": {
  "kernelspec": {
   "display_name": "Python 3",
   "language": "python",
   "name": "python3"
  },
  "language_info": {
   "codemirror_mode": {
    "name": "ipython",
    "version": 3
   },
   "file_extension": ".py",
   "mimetype": "text/x-python",
   "name": "python",
   "nbconvert_exporter": "python",
   "pygments_lexer": "ipython3",
   "version": "3.8.3"
  }
 },
 "nbformat": 4,
 "nbformat_minor": 4
}
