{
 "cells": [
  {
   "cell_type": "code",
   "execution_count": 4,
   "metadata": {},
   "outputs": [],
   "source": [
    "with open(\"inputs/2\", \"r\") as f:\n",
    "    input_seq = list(map(lambda x: x.split(\" \"), f.read().splitlines()))"
   ]
  },
  {
   "cell_type": "code",
   "execution_count": 8,
   "metadata": {},
   "outputs": [
    {
     "name": "stdout",
     "output_type": "stream",
     "text": [
      "1924923\n"
     ]
    }
   ],
   "source": [
    "horizontal_position = 0\n",
    "depth = 0\n",
    "for cmd, val in input_seq:\n",
    "    val = int(val)\n",
    "    if cmd == \"forward\":\n",
    "        horizontal_position += val\n",
    "    elif cmd == \"down\":\n",
    "        depth += val\n",
    "    elif cmd == \"up\":\n",
    "        depth -= val\n",
    "        \n",
    "print(horizontal_position*depth)\n",
    "    "
   ]
  },
  {
   "cell_type": "code",
   "execution_count": 11,
   "metadata": {},
   "outputs": [
    {
     "name": "stdout",
     "output_type": "stream",
     "text": [
      "1982495697\n"
     ]
    }
   ],
   "source": [
    "horizontal_position = 0\n",
    "depth = 0\n",
    "aim = 0\n",
    "for cmd, val in input_seq:\n",
    "    val = int(val)\n",
    "    if cmd == \"forward\":\n",
    "        horizontal_position += val\n",
    "        depth += aim * val\n",
    "    elif cmd == \"down\":\n",
    "        aim += val\n",
    "    elif cmd == \"up\":\n",
    "        aim -= val\n",
    "        \n",
    "print(horizontal_position*depth)\n",
    "    "
   ]
  }
 ],
 "metadata": {
  "kernelspec": {
   "display_name": "Python 3",
   "language": "python",
   "name": "python3"
  },
  "language_info": {
   "codemirror_mode": {
    "name": "ipython",
    "version": 3
   },
   "file_extension": ".py",
   "mimetype": "text/x-python",
   "name": "python",
   "nbconvert_exporter": "python",
   "pygments_lexer": "ipython3",
   "version": "3.8.3"
  }
 },
 "nbformat": 4,
 "nbformat_minor": 4
}
