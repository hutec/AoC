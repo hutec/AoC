{
 "cells": [
  {
   "cell_type": "code",
   "execution_count": 1,
   "metadata": {},
   "outputs": [],
   "source": [
    "import re\n",
    "import operator\n",
    "from dataclasses import dataclass\n",
    "from __future__ import annotations\n",
    "from typing import Tuple, Optional"
   ]
  },
  {
   "cell_type": "code",
   "execution_count": 2,
   "metadata": {},
   "outputs": [
    {
     "name": "stdout",
     "output_type": "stream",
     "text": [
      "615869\n",
      "1323862415207825\n"
     ]
    }
   ],
   "source": [
    "with open(\"inputs/22\", \"r\") as f:\n",
    "    lines = f.read().splitlines()\n",
    "\n",
    "p = re.compile(\"(\\w+) x=(-?\\d+)..(-?\\d+),y=(-?\\d+)..(-?\\d+),z=(-?\\d+)..(-?\\d+)\")\n",
    "\n",
    "\n",
    "def parse(line):\n",
    "    state, *lims = p.match(line).groups()\n",
    "    state = 1 if state == \"on\" else -1\n",
    "    lims = list(map(int, lims))\n",
    "    return state, lims[::2], lims[1::2]\n",
    "\n",
    "\n",
    "@dataclass\n",
    "class Cube:\n",
    "    state: int\n",
    "    low: List[int, int, int]\n",
    "    high: List[int, int, int]\n",
    "\n",
    "    def intersect(self, other: Cube) -> Optional[Cube]:\n",
    "        low = list(map(max, zip(self.low, other.low)))\n",
    "        high = list(map(min, zip(self.high, other.high)))\n",
    "\n",
    "        if not all(map(operator.le, low, high)):\n",
    "            return None\n",
    "\n",
    "        return Cube(-self.state, low, high)\n",
    "            \n",
    "    def count(self):\n",
    "        c = self.state\n",
    "        for h, l in zip(self.high, self.low):\n",
    "            c *= h + 1 - l\n",
    "        return c\n",
    "\n",
    "\n",
    "cubes = []\n",
    "for i, line in enumerate(lines):\n",
    "    cube = Cube(*parse(line))\n",
    "\n",
    "    to_add = [i for i in [o.intersect(cube) for o in cubes] if i]\n",
    "    cubes.extend(to_add)\n",
    "    if cube.state == 1:\n",
    "        cubes.append(cube)\n",
    "        \n",
    "    if i == 19:\n",
    "        print(sum(map(lambda c: c.count(), cubes)))\n",
    "        \n",
    "print(sum(map(lambda c: c.count(), cubes)))"
   ]
  }
 ],
 "metadata": {
  "kernelspec": {
   "display_name": "Python 3",
   "language": "python",
   "name": "python3"
  },
  "language_info": {
   "codemirror_mode": {
    "name": "ipython",
    "version": 3
   },
   "file_extension": ".py",
   "mimetype": "text/x-python",
   "name": "python",
   "nbconvert_exporter": "python",
   "pygments_lexer": "ipython3",
   "version": "3.8.3"
  }
 },
 "nbformat": 4,
 "nbformat_minor": 4
}
