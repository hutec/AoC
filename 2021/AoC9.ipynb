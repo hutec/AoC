{
 "cells": [
  {
   "cell_type": "code",
   "execution_count": 1,
   "metadata": {},
   "outputs": [],
   "source": [
    "from collections import defaultdict\n",
    "import math\n",
    "import operator"
   ]
  },
  {
   "cell_type": "code",
   "execution_count": 2,
   "metadata": {},
   "outputs": [],
   "source": [
    "with open(\"inputs/9\", \"r\") as f:\n",
    "    lines = f.read().splitlines()\n",
    "\n",
    "heightmap = defaultdict(lambda: 10)  # max height is 10\n",
    "for row_idx, row in enumerate(lines):\n",
    "    for col_idx, val in enumerate(row):\n",
    "        heightmap[(row_idx, col_idx)] = int(val)\n",
    "        \n",
    "def is_low_point(p, h):\n",
    "    \"\"\"\n",
    "    Args:\n",
    "        position: (row, col).\n",
    "        heightmap: dict mapping positions to heights.\n",
    "    \"\"\"\n",
    "    i, j = p\n",
    "    el = h[i, j]\n",
    "    return el < h[i-1, j] and el < h[i, j-1] and el < h[i+1, j] and el < h[i, j+1]\n",
    "\n",
    "directions = [(1, 0), (0, 1), (-1, 0), (0, -1)]\n",
    "\n",
    "def add(t1, t2):\n",
    "    return tuple(map(operator.add, t1, t2))\n"
   ]
  },
  {
   "cell_type": "code",
   "execution_count": 3,
   "metadata": {},
   "outputs": [
    {
     "data": {
      "text/plain": [
       "491"
      ]
     },
     "execution_count": 3,
     "metadata": {},
     "output_type": "execute_result"
    }
   ],
   "source": [
    "risk_levels = []\n",
    "for i in range(len(lines)):\n",
    "    for j in range(len(lines[0])):\n",
    "        if is_low_point((i, j), heightmap):\n",
    "            risk_levels.append(heightmap[i, j] + 1)\n",
    "    \n",
    "sum(risk_levels)"
   ]
  },
  {
   "cell_type": "code",
   "execution_count": 4,
   "metadata": {},
   "outputs": [
    {
     "data": {
      "text/plain": [
       "1075536"
      ]
     },
     "execution_count": 4,
     "metadata": {},
     "output_type": "execute_result"
    }
   ],
   "source": [
    "def count_basin(position, heightmap):\n",
    "    if not is_low_point(position, heightmap):\n",
    "        return 0\n",
    "    \n",
    "    basin = set()\n",
    "    add_to_basin = set([position])\n",
    "    while add_to_basin:\n",
    "        basin = basin.union(add_to_basin)\n",
    "        add_to_basin = set()\n",
    "        for _p in basin:\n",
    "            for direction in directions:\n",
    "                candidate = add(_p, direction)\n",
    "                if heightmap[candidate] < 9 and heightmap[candidate] > heightmap[_p]:\n",
    "                    if candidate not in basin:\n",
    "                        add_to_basin.add(candidate)\n",
    "        \n",
    "    return len(basin)\n",
    "     \n",
    "basins = []\n",
    "for i in range(len(lines)):\n",
    "    for j in range(len(lines[0])):\n",
    "        basins.append(count_basin((i,j), heightmap))\n",
    "        \n",
    "math.prod(sorted(basins)[-3:])"
   ]
  }
 ],
 "metadata": {
  "kernelspec": {
   "display_name": "Python 3",
   "language": "python",
   "name": "python3"
  },
  "language_info": {
   "codemirror_mode": {
    "name": "ipython",
    "version": 3
   },
   "file_extension": ".py",
   "mimetype": "text/x-python",
   "name": "python",
   "nbconvert_exporter": "python",
   "pygments_lexer": "ipython3",
   "version": "3.8.3"
  }
 },
 "nbformat": 4,
 "nbformat_minor": 4
}
