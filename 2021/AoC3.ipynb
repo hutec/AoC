{
 "cells": [
  {
   "cell_type": "code",
   "execution_count": 1,
   "metadata": {},
   "outputs": [],
   "source": [
    "with open(\"inputs/3\", \"r\") as f:\n",
    "    seq = list(f.read().splitlines())"
   ]
  },
  {
   "cell_type": "code",
   "execution_count": 2,
   "metadata": {},
   "outputs": [
    {
     "data": {
      "text/plain": [
       "2954600"
      ]
     },
     "execution_count": 2,
     "metadata": {},
     "output_type": "execute_result"
    }
   ],
   "source": [
    "counter = [0] * len(seq[0])\n",
    "for number in seq:\n",
    "    for i, bit in enumerate(number):\n",
    "        counter[i] += int(bit)\n",
    "        \n",
    "# Short way: Create big table, transpose and sum\n",
    "# l = map(lambda x: list(map(int, x)), seq)\n",
    "# counter = map(sum, zip(*l))\n",
    "\n",
    "gamma_rate = map(str, map(lambda x: int(x > len(seq) / 2), counter))\n",
    "epsilon_rate = map(str, map(lambda x: int(x < len(seq) / 2), counter)) \n",
    "\n",
    "int(\"\".join(gamma_rate), 2) * int(\"\".join(epsilon_rate), 2)"
   ]
  },
  {
   "cell_type": "code",
   "execution_count": 3,
   "metadata": {},
   "outputs": [],
   "source": [
    "def bit_counter(seq, position, mode):\n",
    "    ones = 0\n",
    "    zeros = 0\n",
    "    for number in seq:\n",
    "        ones += number[position] == \"1\"\n",
    "        zeros += number[position] == \"0\"\n",
    "    \n",
    "    if mode == \"most_common\":\n",
    "        return int(ones >= zeros)\n",
    "    elif mode == \"least_common\":\n",
    "        return int(zeros > ones)\n",
    "        \n",
    "\n",
    "def oxygen_generator_rating(seq):\n",
    "    \"\"\"Find the oxygen rating by the iterative filtering process.\"\"\"\n",
    "    def _filter(number, position, most_common_bit):\n",
    "        return int(number[position]) == most_common_bit\n",
    "        \n",
    "    filtered = seq\n",
    "    for bit_position in range(len(seq[0])):\n",
    "        most_common_bit = bit_counter(filtered, bit_position, \"most_common\")\n",
    "        filtered = list(filter(lambda x: _filter(x, bit_position, most_common_bit), filtered))\n",
    "        if len(filtered) == 1:\n",
    "            return filtered[0]\n",
    "\n",
    "def co2_rubber_rating(seq):\n",
    "    \"\"\"Find the CO2 rubber rating by the iterative filtering process.\"\"\"\n",
    "    def _filter(number, position, least_common_bit):\n",
    "        return int(number[position]) == least_common_bit\n",
    "\n",
    "    filtered = seq\n",
    "    for bit_position in range(len(seq[0])):\n",
    "        least_common_bit = bit_counter(filtered, bit_position, \"least_common\")\n",
    "        filtered = list(filter(lambda x: _filter(x, bit_position, least_common_bit), filtered))\n",
    "        if len(filtered) == 1:\n",
    "            return filtered[0]"
   ]
  },
  {
   "cell_type": "code",
   "execution_count": 4,
   "metadata": {},
   "outputs": [
    {
     "data": {
      "text/plain": [
       "1662846"
      ]
     },
     "execution_count": 4,
     "metadata": {},
     "output_type": "execute_result"
    }
   ],
   "source": [
    "int(oxygen_generator_rating(seq), 2) * int(co2_rubber_rating(seq), 2)"
   ]
  }
 ],
 "metadata": {
  "kernelspec": {
   "display_name": "Python 3",
   "language": "python",
   "name": "python3"
  },
  "language_info": {
   "codemirror_mode": {
    "name": "ipython",
    "version": 3
   },
   "file_extension": ".py",
   "mimetype": "text/x-python",
   "name": "python",
   "nbconvert_exporter": "python",
   "pygments_lexer": "ipython3",
   "version": "3.8.3"
  }
 },
 "nbformat": 4,
 "nbformat_minor": 4
}
