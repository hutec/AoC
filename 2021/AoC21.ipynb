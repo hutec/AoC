{
 "cells": [
  {
   "cell_type": "code",
   "execution_count": 1,
   "metadata": {},
   "outputs": [],
   "source": [
    "import functools\n",
    "import operator\n",
    "import itertools"
   ]
  },
  {
   "cell_type": "code",
   "execution_count": 2,
   "metadata": {},
   "outputs": [
    {
     "name": "stdout",
     "output_type": "stream",
     "text": [
      "1004670\n"
     ]
    }
   ],
   "source": [
    "s = [[9, 0], [6, 0]]\n",
    "\n",
    "def mod10(x):\n",
    "    return (x - 1) % 10 + 1\n",
    "\n",
    "def mod100(x):\n",
    "    return (x - 1) % 100 + 1\n",
    "\n",
    "dice = 1\n",
    "rolls = 0\n",
    "i = 0\n",
    "while True:\n",
    "    s[i][0] = mod10(s[i][0] + (dice*3) + 3)\n",
    "    s[i][1] += s[i][0]\n",
    "    dice = mod100(dice + 3)\n",
    "    rolls += 1\n",
    "    \n",
    "    if s[0][1] >= 1000:\n",
    "        print(s[1][1] * (rolls*3))\n",
    "        break\n",
    "    elif s[1][1] >= 1000:\n",
    "        print(s[0][1] * (rolls*3))\n",
    "        break\n",
    "        \n",
    "    i = int(not i)\n",
    "        "
   ]
  },
  {
   "cell_type": "code",
   "execution_count": 3,
   "metadata": {},
   "outputs": [],
   "source": [
    "def add(a, b):\n",
    "    return tuple(map(operator.add, a, b))\n",
    "\n",
    "rolls = list(map(sum, itertools.product([1,2,3], repeat=3)))\n",
    "\n",
    "@functools.lru_cache(maxsize=44100*2)\n",
    "def win(p1_position, p1_total, p2_position, p2_total, current_player):\n",
    "\n",
    "    if p1_total >= 21:        \n",
    "        return (1, 0)\n",
    "    elif p2_total >= 21:\n",
    "        return (0, 1)\n",
    "    \n",
    "    if current_player == \"p1\":\n",
    "        r = []\n",
    "        for i in rolls:\n",
    "            p = mod10(p1_position + i)\n",
    "            t = p1_total + p\n",
    "            r.append(win(p, t, p2_position, p2_total, \"p2\"))\n",
    "        return functools.reduce(add, r)\n",
    "                       \n",
    "    elif current_player == \"p2\":\n",
    "        r = []\n",
    "        for i in rolls:\n",
    "            p = mod10(p2_position + i)\n",
    "            t = p2_total + p\n",
    "            r.append(win(p1_position, p1_total, p, t, \"p1\"))\n",
    "        return functools.reduce(add, r)\n"
   ]
  },
  {
   "cell_type": "code",
   "execution_count": 4,
   "metadata": {},
   "outputs": [
    {
     "data": {
      "text/plain": [
       "492043106122795"
      ]
     },
     "execution_count": 4,
     "metadata": {},
     "output_type": "execute_result"
    }
   ],
   "source": [
    "max(win(9, 0, 6, 0, \"p1\"))"
   ]
  }
 ],
 "metadata": {
  "kernelspec": {
   "display_name": "Python 3",
   "language": "python",
   "name": "python3"
  },
  "language_info": {
   "codemirror_mode": {
    "name": "ipython",
    "version": 3
   },
   "file_extension": ".py",
   "mimetype": "text/x-python",
   "name": "python",
   "nbconvert_exporter": "python",
   "pygments_lexer": "ipython3",
   "version": "3.8.3"
  }
 },
 "nbformat": 4,
 "nbformat_minor": 4
}
