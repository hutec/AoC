{
 "cells": [
  {
   "cell_type": "code",
   "execution_count": 1,
   "metadata": {},
   "outputs": [],
   "source": [
    "import numpy as np\n",
    "import copy"
   ]
  },
  {
   "cell_type": "code",
   "execution_count": 2,
   "metadata": {},
   "outputs": [],
   "source": [
    "with open(\"inputs/4\", \"r\") as f:\n",
    "    seq = list(f.read().splitlines())"
   ]
  },
  {
   "cell_type": "code",
   "execution_count": 3,
   "metadata": {},
   "outputs": [],
   "source": [
    "class Board:\n",
    "    def __init__(self, rows: list):\n",
    "        self.numbers = np.array(rows)\n",
    "        self.visited = np.zeros_like(self.numbers)\n",
    "    \n",
    "    def mark(self, number: int):\n",
    "        self.visited = np.logical_or(self.visited, self.numbers == number)\n",
    "    \n",
    "    def check_bingo(self) -> bool:\n",
    "        return np.any(self.visited.sum(axis=0) == 5) or np.any(self.visited.sum(axis=1) == 5)\n",
    "    \n",
    "    def calculate_score(self) -> int:\n",
    "        return np.sum(self.numbers[np.invert(self.visited)])\n",
    "        "
   ]
  },
  {
   "cell_type": "code",
   "execution_count": 4,
   "metadata": {},
   "outputs": [],
   "source": [
    "random_numbers = [int(x) for x in seq[0].split(\",\")]\n",
    "\n",
    "boards = []\n",
    "board_rows = []\n",
    "for row in seq[1:] + [\"\"]:\n",
    "    if row == \"\":\n",
    "        if len(board_rows) > 0:\n",
    "            boards.append(Board(board_rows))\n",
    "        board_rows = []\n",
    "    else:\n",
    "        board_rows.append([int(x) for x in row.split()])"
   ]
  },
  {
   "cell_type": "code",
   "execution_count": 5,
   "metadata": {},
   "outputs": [],
   "source": [
    "def simulate_first(random_numbers, boards):\n",
    "    \"\"\"Return on first board winning.\"\"\"\n",
    "    for number in random_numbers:\n",
    "        for i, board in enumerate(boards):\n",
    "            board.mark(number)\n",
    "            if board.check_bingo():\n",
    "                return number * board.calculate_score()            "
   ]
  },
  {
   "cell_type": "code",
   "execution_count": 6,
   "metadata": {},
   "outputs": [],
   "source": [
    "def simulate_last(random_numbers, boards):\n",
    "    \"\"\"Return on last board winning.\"\"\"\n",
    "    for number in random_numbers:\n",
    "        for board in boards:\n",
    "            board.mark(number)\n",
    "        \n",
    "        for board in boards:\n",
    "            if board.check_bingo():\n",
    "                if len(boards) == 1:\n",
    "                    return board.calculate_score() * number\n",
    "                else:\n",
    "                    boards.remove(board)"
   ]
  },
  {
   "cell_type": "code",
   "execution_count": 7,
   "metadata": {},
   "outputs": [
    {
     "data": {
      "text/plain": [
       "8136"
      ]
     },
     "execution_count": 7,
     "metadata": {},
     "output_type": "execute_result"
    }
   ],
   "source": [
    "simulate_first(random_numbers, copy.deepcopy(boards))"
   ]
  },
  {
   "cell_type": "code",
   "execution_count": 8,
   "metadata": {},
   "outputs": [
    {
     "data": {
      "text/plain": [
       "12738"
      ]
     },
     "execution_count": 8,
     "metadata": {},
     "output_type": "execute_result"
    }
   ],
   "source": [
    "simulate_last(random_numbers, copy.deepcopy(boards))"
   ]
  }
 ],
 "metadata": {
  "kernelspec": {
   "display_name": "Python 3",
   "language": "python",
   "name": "python3"
  },
  "language_info": {
   "codemirror_mode": {
    "name": "ipython",
    "version": 3
   },
   "file_extension": ".py",
   "mimetype": "text/x-python",
   "name": "python",
   "nbconvert_exporter": "python",
   "pygments_lexer": "ipython3",
   "version": "3.8.3"
  }
 },
 "nbformat": 4,
 "nbformat_minor": 4
}
