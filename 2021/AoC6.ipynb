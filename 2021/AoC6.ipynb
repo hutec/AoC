{
 "cells": [
  {
   "cell_type": "code",
   "execution_count": 1,
   "metadata": {},
   "outputs": [],
   "source": [
    "with open(\"inputs/6\", \"r\") as f:\n",
    "    seq = list(map(int, f.read().split(\",\")))"
   ]
  },
  {
   "cell_type": "code",
   "execution_count": 2,
   "metadata": {},
   "outputs": [],
   "source": [
    "class Fish:\n",
    "    def __init__(self, current, reset):\n",
    "        self.reset = reset\n",
    "        self.current = current"
   ]
  },
  {
   "cell_type": "code",
   "execution_count": 3,
   "metadata": {},
   "outputs": [
    {
     "data": {
      "text/plain": [
       "2207"
      ]
     },
     "execution_count": 3,
     "metadata": {},
     "output_type": "execute_result"
    }
   ],
   "source": [
    "population = []\n",
    "for f in seq:\n",
    "    population.append(Fish(f, 6))\n",
    "    \n",
    "for day in range(20):\n",
    "    new_population = []\n",
    "    for fish in population:\n",
    "        if fish.current == 0:\n",
    "            new_population.append(Fish(8, 6))\n",
    "            fish.current = fish.reset\n",
    "        else:\n",
    "            fish.current -= 1\n",
    "    population += new_population\n",
    "\n",
    "len(population)"
   ]
  },
  {
   "cell_type": "code",
   "execution_count": 4,
   "metadata": {},
   "outputs": [],
   "source": [
    "import functools\n",
    "\n",
    "@functools.lru_cache\n",
    "def rec(age, counter, depth):\n",
    "    if depth == 0:\n",
    "        return counter\n",
    "    \n",
    "    if age == 0:\n",
    "        return rec(6, 1, depth - 1) + rec(8, 1, depth - 1)\n",
    "    else:\n",
    "        return rec(age-1, counter, depth - 1)"
   ]
  },
  {
   "cell_type": "code",
   "execution_count": 5,
   "metadata": {},
   "outputs": [
    {
     "data": {
      "text/plain": [
       "1743335992042"
      ]
     },
     "execution_count": 5,
     "metadata": {},
     "output_type": "execute_result"
    }
   ],
   "source": [
    "sum([rec(x, 1, 256) for x in seq])"
   ]
  }
 ],
 "metadata": {
  "kernelspec": {
   "display_name": "Python 3",
   "language": "python",
   "name": "python3"
  },
  "language_info": {
   "codemirror_mode": {
    "name": "ipython",
    "version": 3
   },
   "file_extension": ".py",
   "mimetype": "text/x-python",
   "name": "python",
   "nbconvert_exporter": "python",
   "pygments_lexer": "ipython3",
   "version": "3.8.3"
  }
 },
 "nbformat": 4,
 "nbformat_minor": 4
}
