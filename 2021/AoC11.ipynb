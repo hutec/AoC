{
 "cells": [
  {
   "cell_type": "code",
   "execution_count": 1,
   "metadata": {},
   "outputs": [],
   "source": [
    "import numpy as np\n",
    "from itertools import product"
   ]
  },
  {
   "cell_type": "code",
   "execution_count": 2,
   "metadata": {},
   "outputs": [],
   "source": [
    "with open(\"inputs/11\", \"r\") as f:\n",
    "    lines = f.read().splitlines()\n",
    "\n",
    "def make_grid():\n",
    "    g = np.zeros((len(lines), len(lines)))\n",
    "    for row_idx, row in enumerate(lines):\n",
    "        for col_idx, val in enumerate(row):\n",
    "            g[row_idx, col_idx] = val\n",
    "    return g\n",
    "\n",
    "def increase_neighbors(x, y, grid):\n",
    "    for dx, dy in product([-1, 0, 1], repeat=2):\n",
    "        if dx == dy == 0:\n",
    "            continue\n",
    "        \n",
    "        xx = x + dx\n",
    "        yy = y + dy\n",
    "        \n",
    "        if xx >= 0 and xx < len(grid) and yy >= 0 and yy < len(grid):\n",
    "            grid[xx, yy] += 1\n",
    "    "
   ]
  },
  {
   "cell_type": "code",
   "execution_count": 3,
   "metadata": {},
   "outputs": [
    {
     "data": {
      "text/plain": [
       "1634"
      ]
     },
     "execution_count": 3,
     "metadata": {},
     "output_type": "execute_result"
    }
   ],
   "source": [
    "g = make_grid()\n",
    "\n",
    "counter = 0\n",
    "for _ in range(100):\n",
    "    g += 1\n",
    "    flashed = np.zeros_like(g).astype(bool)\n",
    "    while True:\n",
    "        new_flashes = g > 9\n",
    "        for p in zip(*np.where(np.logical_and(new_flashes, ~flashed))):\n",
    "            increase_neighbors(*p, g)\n",
    "        \n",
    "        if np.array_equal(new_flashes, g > 9):\n",
    "            break     \n",
    "        flashed = new_flashes\n",
    "    \n",
    "    \n",
    "    counter += len(g[g > 9])\n",
    "    g[g > 9] = 0\n",
    "    \n",
    "counter"
   ]
  },
  {
   "cell_type": "code",
   "execution_count": 4,
   "metadata": {},
   "outputs": [
    {
     "data": {
      "text/plain": [
       "210"
      ]
     },
     "execution_count": 4,
     "metadata": {},
     "output_type": "execute_result"
    }
   ],
   "source": [
    "g = make_grid()\n",
    "\n",
    "i = 1\n",
    "while True:\n",
    "    g += 1\n",
    "    flashed = np.zeros_like(g).astype(bool)\n",
    "    while True:\n",
    "        new_flashes = g > 9\n",
    "        for p in zip(*np.where(np.logical_and(new_flashes, ~flashed))):\n",
    "            increase_neighbors(*p, g)\n",
    "        \n",
    "        if np.array_equal(new_flashes, g > 9):\n",
    "            break     \n",
    "        flashed = new_flashes\n",
    "    \n",
    "    if np.all(g > 9):\n",
    "        break\n",
    "        \n",
    "    i += 1\n",
    "    g[g > 9] = 0\n",
    "    \n",
    "i"
   ]
  }
 ],
 "metadata": {
  "kernelspec": {
   "display_name": "Python 3",
   "language": "python",
   "name": "python3"
  },
  "language_info": {
   "codemirror_mode": {
    "name": "ipython",
    "version": 3
   },
   "file_extension": ".py",
   "mimetype": "text/x-python",
   "name": "python",
   "nbconvert_exporter": "python",
   "pygments_lexer": "ipython3",
   "version": "3.8.3"
  }
 },
 "nbformat": 4,
 "nbformat_minor": 4
}
