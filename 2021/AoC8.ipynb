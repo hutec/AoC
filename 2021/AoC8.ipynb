{
 "cells": [
  {
   "cell_type": "code",
   "execution_count": 1,
   "metadata": {},
   "outputs": [],
   "source": [
    "from collections import defaultdict\n",
    "import itertools"
   ]
  },
  {
   "cell_type": "code",
   "execution_count": 2,
   "metadata": {},
   "outputs": [],
   "source": [
    "patterns = []\n",
    "outputs = []\n",
    "with open(\"inputs/8\", \"r\") as f:\n",
    "    for line in f.readlines():\n",
    "        line_patterns, line_outputs = line.split(\"|\")\n",
    "        outputs.append(line_outputs.strip().split(\" \"))\n",
    "        patterns.append(line_patterns.strip().split(\" \"))"
   ]
  },
  {
   "cell_type": "code",
   "execution_count": 3,
   "metadata": {},
   "outputs": [
    {
     "data": {
      "text/plain": [
       "416"
      ]
     },
     "execution_count": 3,
     "metadata": {},
     "output_type": "execute_result"
    }
   ],
   "source": [
    "count = 0\n",
    "for o in outputs:\n",
    "    count += sum(map(lambda x: len(x) in [2, 4, 3,7], o))\n",
    "count"
   ]
  },
  {
   "cell_type": "code",
   "execution_count": 4,
   "metadata": {},
   "outputs": [],
   "source": [
    "digit_to_segments = {\n",
    "    0: frozenset(\"abcefg\"),\n",
    "    1: frozenset(\"cf\"),\n",
    "    2: frozenset(\"acdeg\"),\n",
    "    3: frozenset(\"acdfg\"),\n",
    "    4: frozenset(\"bcdf\"),\n",
    "    5: frozenset(\"abdfg\"),\n",
    "    6: frozenset(\"abdefg\"),\n",
    "    7: frozenset(\"acf\"),\n",
    "    8: frozenset(\"abcdefg\"),\n",
    "    9: frozenset(\"abcdfg\"),\n",
    "}\n",
    "\n",
    "segments_to_digit = {v: str(k) for k, v in digit_to_segments.items()}\n",
    "\n",
    "def decode_entry(patterns, outputs):\n",
    "    s = list(\"abcdefg\")\n",
    "    permutations = list(itertools.permutations(list(\"abcdefg\")))\n",
    "    \n",
    "    for permutation in permutations:\n",
    "        mapping = dict(zip(s, permutation))\n",
    "        skip = False\n",
    "        for pattern in patterns:\n",
    "            if frozenset(map(mapping.get, pattern)) not in digit_to_segments.values():\n",
    "                skip = True\n",
    "                break\n",
    "        \n",
    "        if skip == False:\n",
    "            ret = \"\"\n",
    "            for output in outputs:\n",
    "                ret += segments_to_digit[frozenset(map(mapping.get, output))]\n",
    "            return int(ret)"
   ]
  },
  {
   "cell_type": "code",
   "execution_count": 5,
   "metadata": {},
   "outputs": [
    {
     "data": {
      "text/plain": [
       "1043697"
      ]
     },
     "execution_count": 5,
     "metadata": {},
     "output_type": "execute_result"
    }
   ],
   "source": [
    "sum(itertools.starmap(decode_entry, zip(patterns, outputs)))"
   ]
  }
 ],
 "metadata": {
  "kernelspec": {
   "display_name": "Python 3",
   "language": "python",
   "name": "python3"
  },
  "language_info": {
   "codemirror_mode": {
    "name": "ipython",
    "version": 3
   },
   "file_extension": ".py",
   "mimetype": "text/x-python",
   "name": "python",
   "nbconvert_exporter": "python",
   "pygments_lexer": "ipython3",
   "version": "3.8.3"
  }
 },
 "nbformat": 4,
 "nbformat_minor": 4
}
