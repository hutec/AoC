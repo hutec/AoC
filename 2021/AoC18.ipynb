{
 "cells": [
  {
   "cell_type": "code",
   "execution_count": 1,
   "metadata": {},
   "outputs": [],
   "source": [
    "import itertools"
   ]
  },
  {
   "cell_type": "code",
   "execution_count": 2,
   "metadata": {},
   "outputs": [],
   "source": [
    "class Pair:\n",
    "    def __init__(self, left, right, depth, parent=None):\n",
    "        self.left = left\n",
    "        self.right = right\n",
    "        self.depth = depth\n",
    "        self.parent = parent\n",
    "        \n",
    "    def magnitude(self):\n",
    "        left = self.left.magnitude() if isinstance(self.left, Pair) else self.left.value\n",
    "        right = self.right.magnitude() if isinstance(self.right, Pair) else self.right.value\n",
    "        return 3 * left + 2 * right\n",
    "    \n",
    "    def reduce(self):\n",
    "        return self.reduce_explode() or self.reduce_split()\n",
    "    \n",
    "    def reduce_explode(self):\n",
    "        if self.depth >= 4:\n",
    "            return \"explode\", self\n",
    "        else:\n",
    "            return self.left.reduce_explode() or self.right.reduce_explode()\n",
    "        \n",
    "    def reduce_split(self):\n",
    "        return self.left.reduce_split() or self.right.reduce_split()\n",
    "    \n",
    "    def __add__(self, other):\n",
    "        self.increase_depth()\n",
    "        other.increase_depth()\n",
    "        new = Pair(self, other, 0)\n",
    "        self.parent = new\n",
    "        other.parent = new\n",
    "        return new\n",
    "    \n",
    "    def __repr__(self):\n",
    "        return f\"[{self.left},{self.right}]\"\n",
    "    \n",
    "    def leaves(self):\n",
    "        return self.left.leaves() + self.right.leaves()\n",
    "    \n",
    "    def increase_depth(self):\n",
    "        self.depth += 1\n",
    "        if isinstance(self.left, Pair):\n",
    "            self.left.increase_depth()\n",
    "    \n",
    "        if isinstance(self.right, Pair):\n",
    "            self.right.increase_depth()\n",
    "\n",
    "class Number:\n",
    "    def __init__(self, value, parent=None):\n",
    "        self.value = value\n",
    "        self.parent = parent\n",
    "    \n",
    "    def magnitude(self):\n",
    "        return self\n",
    "    \n",
    "    def reduce_explode(self):\n",
    "        return None\n",
    "    \n",
    "    def reduce_split(self):\n",
    "        if self.value >= 10:\n",
    "            return \"split\", self\n",
    "        \n",
    "        return None\n",
    "        \n",
    "    def __add__(self, other):\n",
    "        self.value += other.value\n",
    "\n",
    "    def __repr__(self):\n",
    "        return str(self.value)\n",
    "        \n",
    "    def leaves(self):\n",
    "        return [self]\n",
    "    \n",
    "def parse_pair(l: list, depth=0) -> Pair:\n",
    "    left = Number(l[0]) if isinstance(l[0], int) else parse_pair(l[0], depth + 1)\n",
    "    right = Number(l[1]) if isinstance(l[1], int) else parse_pair(l[1], depth + 1)\n",
    "    \n",
    "    p =  Pair(left, right, depth)\n",
    "    left.parent = p\n",
    "    right.parent = p\n",
    "    return p"
   ]
  },
  {
   "cell_type": "code",
   "execution_count": 3,
   "metadata": {},
   "outputs": [],
   "source": [
    "def explode(p):\n",
    "    to_reduce = p\n",
    "    \n",
    "    # Find root\n",
    "    while p.parent:\n",
    "        p = p.parent\n",
    "        \n",
    "    leaves = p.leaves()\n",
    "    \n",
    "    left_idx = leaves.index(to_reduce.left)\n",
    "    if left_idx != 0:\n",
    "        leaves[left_idx - 1] += to_reduce.left\n",
    "        \n",
    "    right_idx = leaves.index(to_reduce.right)\n",
    "    if right_idx != len(leaves) - 1:\n",
    "        leaves[right_idx + 1] += to_reduce.right\n",
    "    \n",
    "    new = Number(0, parent=to_reduce.parent)\n",
    "    if to_reduce.parent.left == to_reduce:\n",
    "        to_reduce.parent.left = new\n",
    "    else:\n",
    "        to_reduce.parent.right = new\n",
    "        \n",
    "def split(p):\n",
    "    \n",
    "    left, right = Number(p.value//2), Number(-(-p.value//2))\n",
    "    parent = p.parent\n",
    "    new = Pair(left, right, depth=parent.depth+1, parent=parent)\n",
    "    left.parent = new\n",
    "    right.parent = new\n",
    "    \n",
    "    if parent.left == p:\n",
    "        parent.left = new\n",
    "    else:\n",
    "        parent.right = new\n",
    "        \n",
    "def calc(p):\n",
    "    while True:\n",
    "        #print(str(p))\n",
    "        try:\n",
    "            action, to_reduce = p.reduce()\n",
    "            #print(f\"{action} {str(to_reduce)}\")\n",
    "        except TypeError:\n",
    "            break\n",
    "\n",
    "        if action == \"split\":\n",
    "            split(to_reduce)\n",
    "        elif action == \"explode\":\n",
    "            explode(to_reduce)\n",
    "        \n",
    "    return p\n",
    "    "
   ]
  },
  {
   "cell_type": "code",
   "execution_count": 4,
   "metadata": {},
   "outputs": [
    {
     "data": {
      "text/plain": [
       "3987"
      ]
     },
     "execution_count": 4,
     "metadata": {},
     "output_type": "execute_result"
    }
   ],
   "source": [
    "with open(\"inputs/18\", \"r\") as f:\n",
    "    lines = f.read().splitlines()\n",
    "\n",
    "s = parse_pair(eval(lines[0]))\n",
    "for l in lines[1:]:\n",
    "    s = s + parse_pair(eval(l))\n",
    "    calc(s)\n",
    "    \n",
    "str(s) == \"[[[[6,6],[7,6]],[[7,7],[7,0]]],[[[7,7],[7,7]],[[7,8],[9,9]]]]\"\n",
    "s.magnitude()"
   ]
  },
  {
   "cell_type": "code",
   "execution_count": 5,
   "metadata": {},
   "outputs": [
    {
     "data": {
      "text/plain": [
       "4500"
      ]
     },
     "execution_count": 5,
     "metadata": {},
     "output_type": "execute_result"
    }
   ],
   "source": [
    "max(calc(parse_pair(eval(p1)) + parse_pair(eval(p2))).magnitude() for p1, p2 in itertools.combinations(lines, 2))"
   ]
  }
 ],
 "metadata": {
  "kernelspec": {
   "display_name": "Python 3",
   "language": "python",
   "name": "python3"
  },
  "language_info": {
   "codemirror_mode": {
    "name": "ipython",
    "version": 3
   },
   "file_extension": ".py",
   "mimetype": "text/x-python",
   "name": "python",
   "nbconvert_exporter": "python",
   "pygments_lexer": "ipython3",
   "version": "3.8.3"
  }
 },
 "nbformat": 4,
 "nbformat_minor": 4
}
