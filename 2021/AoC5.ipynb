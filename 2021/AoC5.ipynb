{
 "cells": [
  {
   "cell_type": "code",
   "execution_count": 1,
   "metadata": {},
   "outputs": [],
   "source": [
    "import re\n",
    "from collections import defaultdict\n",
    "from math import copysign\n",
    "from operator import add"
   ]
  },
  {
   "cell_type": "code",
   "execution_count": 2,
   "metadata": {},
   "outputs": [],
   "source": [
    "with open(\"inputs/5\", \"r\") as f:\n",
    "    seq = list(f.read().splitlines())"
   ]
  },
  {
   "cell_type": "code",
   "execution_count": 3,
   "metadata": {},
   "outputs": [],
   "source": [
    "p = re.compile(r\"(\\d+),(\\d+) -> (\\d+),(\\d+)\")\n",
    "\n",
    "def sign(x):\n",
    "    if x == 0:\n",
    "        return 0\n",
    "    elif x > 0:\n",
    "        return 1\n",
    "    return -1\n",
    " \n",
    "def get_direction(start: tuple, end: tuple) -> tuple:\n",
    "    x = sign(end[0] - start[0])\n",
    "    y = sign(end[1] - start[1])\n",
    "    return x, y\n",
    "\n",
    "def parse_line(line: str) -> tuple:\n",
    "    g = p.match(line).groups()\n",
    "    start = int(g[0]), int(g[1])\n",
    "    end = int(g[2]), int(g[3])\n",
    "    return start, end"
   ]
  },
  {
   "cell_type": "code",
   "execution_count": 4,
   "metadata": {},
   "outputs": [],
   "source": [
    "def count_overlap(seq, direction_condition):\n",
    "    grid = defaultdict(int)\n",
    "    for line in seq:\n",
    "        start, end = parse_line(line)\n",
    "        direction = get_direction(start, end)\n",
    "        if direction_condition(direction):\n",
    "            while start != end:\n",
    "                grid[start] += 1\n",
    "                start = tuple(map(add, start, direction))\n",
    "            grid[start] += 1\n",
    "    \n",
    "    return len(list(filter(lambda x: x > 1, grid.values())))"
   ]
  },
  {
   "cell_type": "code",
   "execution_count": 5,
   "metadata": {},
   "outputs": [
    {
     "data": {
      "text/plain": [
       "8060"
      ]
     },
     "execution_count": 5,
     "metadata": {},
     "output_type": "execute_result"
    }
   ],
   "source": [
    "count_overlap(seq, lambda d: d[0] == 0 or d[1] == 0)"
   ]
  },
  {
   "cell_type": "code",
   "execution_count": 6,
   "metadata": {},
   "outputs": [
    {
     "data": {
      "text/plain": [
       "21577"
      ]
     },
     "execution_count": 6,
     "metadata": {},
     "output_type": "execute_result"
    }
   ],
   "source": [
    "count_overlap(seq, lambda _: True)"
   ]
  }
 ],
 "metadata": {
  "kernelspec": {
   "display_name": "Python 3",
   "language": "python",
   "name": "python3"
  },
  "language_info": {
   "codemirror_mode": {
    "name": "ipython",
    "version": 3
   },
   "file_extension": ".py",
   "mimetype": "text/x-python",
   "name": "python",
   "nbconvert_exporter": "python",
   "pygments_lexer": "ipython3",
   "version": "3.8.3"
  }
 },
 "nbformat": 4,
 "nbformat_minor": 4
}
