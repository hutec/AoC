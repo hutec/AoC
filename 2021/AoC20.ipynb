{
 "cells": [
  {
   "cell_type": "code",
   "execution_count": 1,
   "metadata": {},
   "outputs": [],
   "source": [
    "from collections import defaultdict\n",
    "import operator\n",
    "import itertools"
   ]
  },
  {
   "cell_type": "code",
   "execution_count": 2,
   "metadata": {},
   "outputs": [
    {
     "name": "stdout",
     "output_type": "stream",
     "text": [
      "5400\n",
      "18989\n"
     ]
    }
   ],
   "source": [
    "with open(\"inputs/20\", \"r\") as f:\n",
    "    lines = f.read().splitlines()\n",
    "    \n",
    "algo = list(map(lambda x: int(x == \"#\"), lines[0]))\n",
    "grid = defaultdict(lambda: 0)\n",
    "\n",
    "for y, line in enumerate(lines[2:]):\n",
    "    for x, char in enumerate(line):\n",
    "        grid[(y, x)] = int(char == \"#\")\n",
    "        \n",
    "neighbors = list(itertools.product([-1, 0, 1], repeat=2))\n",
    "\n",
    "def add(a, b):\n",
    "    return tuple(map(operator.add, a, b))\n",
    "\n",
    "for i in range(50):\n",
    "    miny = min(grid.keys(), key=lambda x: x[0])[0]\n",
    "    maxy = max(grid.keys(), key=lambda x: x[0])[0]\n",
    "    \n",
    "    minx = min(grid.keys(), key=lambda x: x[1])[1]\n",
    "    maxx = max(grid.keys(), key=lambda x: x[1])[1]\n",
    "        \n",
    "    if i % 2:\n",
    "        new_grid = defaultdict(lambda: 0)\n",
    "    else:\n",
    "        new_grid = defaultdict(lambda: 1)\n",
    "        \n",
    "    for y in range(miny-1, maxy+2):\n",
    "        for x in range(minx-1, maxx+2):\n",
    "            p = (y, x)\n",
    "            window = [grid[add(p, d)] for d in neighbors]\n",
    "            idx = int(\"\".join(map(str, window)), 2)\n",
    "            new_grid[p] = algo[idx]\n",
    "    \n",
    "    grid = new_grid\n",
    "    \n",
    "    if i == 1:\n",
    "        print(sum(grid.values()))\n",
    "        \n",
    "print(sum(grid.values()))"
   ]
  }
 ],
 "metadata": {
  "kernelspec": {
   "display_name": "Python 3",
   "language": "python",
   "name": "python3"
  },
  "language_info": {
   "codemirror_mode": {
    "name": "ipython",
    "version": 3
   },
   "file_extension": ".py",
   "mimetype": "text/x-python",
   "name": "python",
   "nbconvert_exporter": "python",
   "pygments_lexer": "ipython3",
   "version": "3.8.3"
  }
 },
 "nbformat": 4,
 "nbformat_minor": 4
}
