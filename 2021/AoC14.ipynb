{
 "cells": [
  {
   "cell_type": "code",
   "execution_count": 1,
   "metadata": {},
   "outputs": [],
   "source": [
    "from collections import Counter\n",
    "from functools import lru_cache, reduce\n",
    "import operator"
   ]
  },
  {
   "cell_type": "code",
   "execution_count": 2,
   "metadata": {},
   "outputs": [],
   "source": [
    "with open(\"inputs/14\", \"r\") as f:\n",
    "    lines = f.read().splitlines()"
   ]
  },
  {
   "cell_type": "code",
   "execution_count": 3,
   "metadata": {},
   "outputs": [],
   "source": [
    "polymer = lines[0]\n",
    "rules = {l[:2]: l[-1] for l in lines[2:]}"
   ]
  },
  {
   "cell_type": "code",
   "execution_count": 4,
   "metadata": {},
   "outputs": [],
   "source": [
    "@lru_cache(100000)\n",
    "def count(p, depth):\n",
    "    if depth == 0:\n",
    "        return Counter(p)\n",
    "      \n",
    "    element = rules[p]\n",
    "    p = p[0] + element + p[1]\n",
    "    c = count(p[:2], depth - 1) + count(p[1:], depth - 1)\n",
    "    c[element] -= 1\n",
    "    \n",
    "    return c"
   ]
  },
  {
   "cell_type": "code",
   "execution_count": 5,
   "metadata": {},
   "outputs": [
    {
     "data": {
      "text/plain": [
       "2170"
      ]
     },
     "execution_count": 5,
     "metadata": {},
     "output_type": "execute_result"
    }
   ],
   "source": [
    "counts = reduce(operator.add, map(lambda x: count(\"\".join(x), 10), zip(polymer, polymer[1:])))\n",
    "for p in polymer[1:-1]:\n",
    "    counts[p] -= 1\n",
    "    \n",
    "max(counts.values()) - min(counts.values())"
   ]
  },
  {
   "cell_type": "code",
   "execution_count": 6,
   "metadata": {},
   "outputs": [
    {
     "data": {
      "text/plain": [
       "2422444761283"
      ]
     },
     "execution_count": 6,
     "metadata": {},
     "output_type": "execute_result"
    }
   ],
   "source": [
    "counts = reduce(operator.add, map(lambda x: count(\"\".join(x), 40), zip(polymer, polymer[1:])))\n",
    "for p in polymer[1:-1]:\n",
    "    counts[p] -= 1\n",
    "    \n",
    "max(counts.values()) - min(counts.values())"
   ]
  }
 ],
 "metadata": {
  "kernelspec": {
   "display_name": "Python 3",
   "language": "python",
   "name": "python3"
  },
  "language_info": {
   "codemirror_mode": {
    "name": "ipython",
    "version": 3
   },
   "file_extension": ".py",
   "mimetype": "text/x-python",
   "name": "python",
   "nbconvert_exporter": "python",
   "pygments_lexer": "ipython3",
   "version": "3.8.3"
  }
 },
 "nbformat": 4,
 "nbformat_minor": 4
}
